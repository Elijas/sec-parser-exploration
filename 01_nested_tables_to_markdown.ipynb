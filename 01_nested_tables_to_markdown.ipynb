{
 "cells": [
  {
   "cell_type": "code",
   "execution_count": 1,
   "metadata": {},
   "outputs": [],
   "source": [
    "import jupyter_black\n",
    "from IPython.display import display, HTML\n",
    "import bs4\n",
    "from data.tables import TABLE_10Q_CP_0000016875_20_000032__001\n",
    "from bs4 import BeautifulSoup\n",
    "import pandas as pd\n",
    "import re\n",
    "from io import StringIO\n",
    "from litellm import completion\n",
    "from dotenv import load_dotenv\n",
    "from rich import print as rprint, box\n",
    "from rich.panel import Panel\n",
    "import textwrap\n",
    "from rich.table import Table"
   ]
  },
  {
   "cell_type": "code",
   "execution_count": 2,
   "metadata": {},
   "outputs": [
    {
     "data": {
      "text/html": [
       "\n",
       "                <script type=\"application/javascript\" id=\"jupyter_black\">\n",
       "                (function() {\n",
       "                    if (window.IPython === undefined) {\n",
       "                        return\n",
       "                    }\n",
       "                    var msg = \"WARNING: it looks like you might have loaded \" +\n",
       "                        \"jupyter_black in a non-lab notebook with \" +\n",
       "                        \"`is_lab=True`. Please double check, and if \" +\n",
       "                        \"loading with `%load_ext` please review the README!\"\n",
       "                    console.log(msg)\n",
       "                    alert(msg)\n",
       "                })()\n",
       "                </script>\n",
       "                "
      ],
      "text/plain": [
       "<IPython.core.display.HTML object>"
      ]
     },
     "metadata": {},
     "output_type": "display_data"
    }
   ],
   "source": [
    "load_dotenv()\n",
    "jupyter_black.load()"
   ]
  },
  {
   "cell_type": "code",
   "execution_count": 3,
   "metadata": {},
   "outputs": [],
   "source": [
    "def get_completion(question, markdown_table, model):\n",
    "    response = completion(\n",
    "        model=model,\n",
    "        messages=[\n",
    "            {\n",
    "                \"content\": \"Answer the user query given the markdown table. \"\n",
    "                \"Be very mindful and explicit of units and formatting. \"\n",
    "                \"Cells have been unmerged and only rightmost value was left with a value. \"\n",
    "                f\"### Table\\n{markdown_table}\",\n",
    "                \"role\": \"system\",\n",
    "            },\n",
    "            {\"content\": question, \"role\": \"user\"},\n",
    "        ],\n",
    "    )\n",
    "    # Extract the content message and token information from the response\n",
    "    content_message = response[\"choices\"][0][\"message\"][\"content\"]\n",
    "    token_info = response[\"usage\"]\n",
    "    return content_message, token_info\n",
    "\n",
    "\n",
    "def answer(question, markdown_table, model):\n",
    "    content_message, token_info = get_completion(question, markdown_table, model)\n",
    "    rprint(Panel(\"\\n\".join(textwrap.wrap(content_message, width=80))))\n",
    "    rprint(Panel(str(token_info)))"
   ]
  },
  {
   "cell_type": "code",
   "execution_count": 4,
   "metadata": {},
   "outputs": [
    {
     "data": {
      "text/html": [
       "<table cellpadding=\"0\" cellspacing=\"0\" style=\"font-family:Times New Roman;font-size:10pt;width:100%;border-collapse:collapse;text-align:left;\"><tbody><tr><td colspan=\"13\"></td></tr><tr><td style=\"width:60%;\"></td><td style=\"width:1%;\"></td><td style=\"width:8%;\"></td><td style=\"width:1%;\"></td><td style=\"width:1%;\"></td><td style=\"width:8%;\"></td><td style=\"width:1%;\"></td><td style=\"width:1%;\"></td><td style=\"width:8%;\"></td><td style=\"width:1%;\"></td><td style=\"width:1%;\"></td><td style=\"width:8%;\"></td><td style=\"width:1%;\"></td></tr><tr><td style=\"vertical-align:bottom;padding-left:2px;padding-top:2px;padding-bottom:2px;padding-right:2px;\"><div style=\"overflow:hidden;font-size:10pt;\"><span style=\"font-family:inherit;font-size:10pt;\">&nbsp;</span></div></td><td colspan=\"6\" style=\"vertical-align:bottom;border-bottom:1px solid #000000;padding-left:2px;padding-top:2px;padding-bottom:2px;\"><div style=\"text-align:center;font-size:9pt;\"><span style=\"font-family:Arial;font-size:9pt;font-weight:bold;\">For the three months ended September 30</span></div></td><td colspan=\"6\" style=\"vertical-align:bottom;border-bottom:1px solid #000000;padding-left:2px;padding-top:2px;padding-bottom:2px;\"><div style=\"text-align:center;font-size:9pt;\"><span style=\"font-family:Arial;font-size:9pt;font-weight:bold;\">For the nine months ended September 30</span></div></td></tr><tr><td style=\"vertical-align:top;border-bottom:2px solid #000000;padding-left:2px;padding-top:2px;padding-bottom:2px;padding-right:2px;\"><div style=\"text-align:left;font-size:9pt;\"><span style=\"font-family:Arial;font-size:9pt;\">(in millions of Canadian dollars)</span></div></td><td colspan=\"3\" style=\"vertical-align:bottom;border-bottom:2px solid #000000;padding-left:2px;padding-top:2px;padding-bottom:2px;padding-right:2px;\"><div style=\"text-align:center;font-size:9pt;\"><span style=\"font-family:Arial;font-size:9pt;font-weight:bold;\">2020</span></div></td><td colspan=\"3\" style=\"vertical-align:bottom;border-bottom:2px solid #000000;padding-left:2px;padding-top:2px;padding-bottom:2px;padding-right:2px;\"><div style=\"text-align:center;font-size:9pt;\"><span style=\"font-family:Arial;font-size:9pt;\">2019</span></div></td><td colspan=\"3\" style=\"vertical-align:bottom;border-bottom:2px solid #000000;padding-left:2px;padding-top:2px;padding-bottom:2px;padding-right:2px;\"><div style=\"text-align:center;font-size:9pt;\"><span style=\"font-family:Arial;font-size:9pt;font-weight:bold;\">2020</span></div></td><td colspan=\"3\" style=\"vertical-align:bottom;border-bottom:2px solid #000000;padding-left:2px;padding-top:2px;padding-bottom:2px;padding-right:2px;\"><div style=\"text-align:center;font-size:9pt;\"><span style=\"font-family:Arial;font-size:9pt;\">2019</span></div></td></tr><tr><td style=\"vertical-align:middle;background-color:#cceeff;padding-left:2px;padding-top:2px;padding-bottom:2px;padding-right:2px;border-top:2px solid #000000;\"><div style=\"text-align:left;font-size:9pt;\"><span style=\"font-family:Arial;font-size:9pt;\">Net income</span></div></td><td style=\"vertical-align:bottom;padding-left:2px;padding-top:2px;padding-bottom:2px;background-color:#cceeff;border-top:2px solid #000000;\"><div style=\"text-align:left;font-size:9pt;\"><span style=\"font-family:Arial;font-size:9pt;font-weight:bold;\">$</span></div></td><td style=\"vertical-align:bottom;background-color:#cceeff;padding-top:2px;padding-bottom:2px;border-top:2px solid #000000;\"><div style=\"text-align:right;font-size:9pt;\"><span style=\"font-family:Arial;font-size:9pt;font-weight:bold;\"><span><ix:nonfraction id=\"d742040e880-wk-Fact-3D6A129E4F7E11A9FC47268C162C2C40\" name=\"us-gaap:NetIncomeLoss\" contextref=\"FD2020Q3QTD\" unitref=\"iso4217_CAD\" decimals=\"-6\" scale=\"6\" format=\"ixt:numdotdecimal\">598</ix:nonfraction></span></span></div></td><td style=\"vertical-align:bottom;background-color:#cceeff;border-top:2px solid #000000;\"><div style=\"text-align:left;font-size:10pt;\"><span style=\"font-family:inherit;font-size:10pt;\"><br></span></div></td><td style=\"vertical-align:bottom;padding-left:2px;padding-top:2px;padding-bottom:2px;background-color:#cceeff;border-top:2px solid #000000;\"><div style=\"text-align:left;font-size:9pt;\"><span style=\"font-family:Arial;font-size:9pt;\">$</span></div></td><td style=\"vertical-align:bottom;background-color:#cceeff;padding-top:2px;padding-bottom:2px;border-top:2px solid #000000;\"><div style=\"text-align:right;font-size:9pt;\"><span style=\"font-family:Arial;font-size:9pt;\"><span><ix:nonfraction id=\"d742040e894-wk-Fact-CB1B6FD42F35C73D08B9268C164DF9E2\" name=\"us-gaap:NetIncomeLoss\" contextref=\"FD2019Q3QTD\" unitref=\"iso4217_CAD\" decimals=\"-6\" scale=\"6\" format=\"ixt:numdotdecimal\">618</ix:nonfraction></span></span></div></td><td style=\"vertical-align:bottom;background-color:#cceeff;border-top:2px solid #000000;\"><div style=\"text-align:left;font-size:10pt;\"><span style=\"font-family:inherit;font-size:10pt;\"><br></span></div></td><td style=\"vertical-align:bottom;padding-left:2px;padding-top:2px;padding-bottom:2px;background-color:#cceeff;border-top:2px solid #000000;\"><div style=\"text-align:left;font-size:9pt;\"><span style=\"font-family:Arial;font-size:9pt;font-weight:bold;\">$</span></div></td><td style=\"vertical-align:bottom;background-color:#cceeff;padding-top:2px;padding-bottom:2px;border-top:2px solid #000000;\"><div style=\"text-align:right;font-size:9pt;\"><span style=\"font-family:Arial;font-size:9pt;font-weight:bold;\"><span><ix:nonfraction id=\"d742040e908-wk-Fact-760561D0617E2A60BA84268C16359E69\" name=\"us-gaap:NetIncomeLoss\" contextref=\"FD2020Q3YTD\" unitref=\"iso4217_CAD\" decimals=\"-6\" scale=\"6\" format=\"ixt:numdotdecimal\">1,642</ix:nonfraction></span></span></div></td><td style=\"vertical-align:bottom;background-color:#cceeff;border-top:2px solid #000000;\"><div style=\"text-align:left;font-size:10pt;\"><span style=\"font-family:inherit;font-size:10pt;\"><br></span></div></td><td style=\"vertical-align:bottom;padding-left:2px;padding-top:2px;padding-bottom:2px;background-color:#cceeff;\"><div style=\"text-align:left;font-size:9pt;\"><span style=\"font-family:Arial;font-size:9pt;\">$</span></div></td><td style=\"vertical-align:bottom;background-color:#cceeff;padding-top:2px;padding-bottom:2px;\"><div style=\"text-align:right;font-size:9pt;\"><span style=\"font-family:Arial;font-size:9pt;\"><span><ix:nonfraction id=\"d742040e923-wk-Fact-96A31269D8012275E97E268C1690257F\" name=\"us-gaap:NetIncomeLoss\" contextref=\"FD2019Q3YTD\" unitref=\"iso4217_CAD\" decimals=\"-6\" scale=\"6\" format=\"ixt:numdotdecimal\">1,776</ix:nonfraction></span></span></div></td><td style=\"vertical-align:bottom;background-color:#cceeff;\"><div style=\"text-align:left;font-size:10pt;\"><span style=\"font-family:inherit;font-size:10pt;\"><br></span></div></td></tr><tr><td style=\"vertical-align:middle;padding-left:12px;padding-top:2px;padding-bottom:2px;padding-right:2px;\"><div style=\"text-align:left;font-size:9pt;\"><span style=\"font-family:Arial;font-size:9pt;\">Net gain (loss) in foreign currency translation adjustments, net of hedging activities</span></div></td><td colspan=\"2\" style=\"vertical-align:bottom;padding-left:2px;padding-top:2px;padding-bottom:2px;\"><div style=\"text-align:right;font-size:9pt;\"><span style=\"font-family:Arial;font-size:9pt;font-weight:bold;\"><span><ix:nonfraction id=\"d742040e938-wk-Fact-8EF64D4AB5FB77A51497268C162CC754\" name=\"us-gaap:OtherComprehensiveIncomeForeignCurrencyTransactionAndTranslationAdjustmentBeforeTaxPortionAttributableToParent\" contextref=\"FD2020Q3QTD\" unitref=\"iso4217_CAD\" decimals=\"-6\" scale=\"6\" format=\"ixt:numdotdecimal\">16</ix:nonfraction></span></span></div></td><td style=\"vertical-align:bottom;\"><div style=\"text-align:left;font-size:10pt;\"><span style=\"font-family:inherit;font-size:10pt;\"><br></span></div></td><td colspan=\"2\" style=\"vertical-align:bottom;padding-left:2px;padding-top:2px;padding-bottom:2px;\"><div style=\"text-align:right;font-size:9pt;\"><span style=\"font-family:Arial;font-size:9pt;\"><span>(<ix:nonfraction id=\"d742040e952-wk-Fact-82F9DCF8DF77557A88DE268C162CD183\" name=\"us-gaap:OtherComprehensiveIncomeForeignCurrencyTransactionAndTranslationAdjustmentBeforeTaxPortionAttributableToParent\" contextref=\"FD2019Q3QTD\" unitref=\"iso4217_CAD\" decimals=\"-6\" scale=\"6\" sign=\"-\" format=\"ixt:numdotdecimal\">8</ix:nonfraction></span></span></div></td><td style=\"vertical-align:bottom;padding-right:2px;padding-top:2px;padding-bottom:2px;\"><div style=\"text-align:left;font-size:9pt;\"><span style=\"font-family:Arial;font-size:9pt;\">)</span></div></td><td colspan=\"2\" style=\"vertical-align:bottom;padding-left:2px;padding-top:2px;padding-bottom:2px;\"><div style=\"text-align:right;font-size:9pt;\"><span style=\"font-family:Arial;font-size:9pt;font-weight:bold;\"><span>(<ix:nonfraction id=\"d742040e967-wk-Fact-11E0588AB5CB01AF405B268C1635A90A\" name=\"us-gaap:OtherComprehensiveIncomeForeignCurrencyTransactionAndTranslationAdjustmentBeforeTaxPortionAttributableToParent\" contextref=\"FD2020Q3YTD\" unitref=\"iso4217_CAD\" decimals=\"-6\" scale=\"6\" sign=\"-\" format=\"ixt:numdotdecimal\">18</ix:nonfraction></span></span></div></td><td style=\"vertical-align:bottom;padding-right:2px;padding-top:2px;padding-bottom:2px;\"><div style=\"text-align:left;font-size:9pt;\"><span style=\"font-family:Arial;font-size:9pt;font-weight:bold;\">)</span></div></td><td colspan=\"2\" style=\"vertical-align:bottom;padding-left:2px;padding-top:2px;padding-bottom:2px;\"><div style=\"text-align:right;font-size:9pt;\"><span style=\"font-family:Arial;font-size:9pt;\"><span><ix:nonfraction id=\"d742040e982-wk-Fact-4F15035DBBF815457F23268C16230BF7\" name=\"us-gaap:OtherComprehensiveIncomeForeignCurrencyTransactionAndTranslationAdjustmentBeforeTaxPortionAttributableToParent\" contextref=\"FD2019Q3YTD\" unitref=\"iso4217_CAD\" decimals=\"-6\" scale=\"6\" format=\"ixt:numdotdecimal\">23</ix:nonfraction></span></span></div></td><td style=\"vertical-align:bottom;\"><div style=\"text-align:left;font-size:10pt;\"><span style=\"font-family:inherit;font-size:10pt;\"><br></span></div></td></tr><tr><td style=\"vertical-align:middle;background-color:#cceeff;padding-left:12px;padding-top:2px;padding-bottom:2px;padding-right:2px;\"><div style=\"text-align:left;font-size:9pt;\"><span style=\"font-family:Arial;font-size:9pt;\">Change in derivatives designated as cash flow hedges</span></div></td><td colspan=\"2\" style=\"vertical-align:bottom;background-color:#cceeff;padding-left:2px;padding-top:2px;padding-bottom:2px;\"><div style=\"text-align:right;font-size:9pt;\"><span style=\"font-family:Arial;font-size:9pt;font-weight:bold;\"><span><ix:nonfraction id=\"d742040e1003-wk-Fact-C4BDAD8CAFC63B5D2BE8268C162C8C18\" name=\"us-gaap:OtherComprehensiveIncomeLossCashFlowHedgeGainLossAfterReclassificationBeforeTax\" contextref=\"FD2020Q3QTD\" unitref=\"iso4217_CAD\" decimals=\"-6\" scale=\"6\" format=\"ixt:numdotdecimal\">3</ix:nonfraction></span></span></div></td><td style=\"vertical-align:bottom;background-color:#cceeff;\"><div style=\"text-align:left;font-size:10pt;\"><span style=\"font-family:inherit;font-size:10pt;\"><br></span></div></td><td colspan=\"2\" style=\"vertical-align:bottom;background-color:#cceeff;padding-left:2px;padding-top:2px;padding-bottom:2px;\"><div style=\"text-align:right;font-size:9pt;\"><span style=\"font-family:Arial;font-size:9pt;\"><span><ix:nonfraction id=\"d742040e1017-wk-Fact-AEDCEDD9EDBC1058BD93268C1635E834\" name=\"us-gaap:OtherComprehensiveIncomeLossCashFlowHedgeGainLossAfterReclassificationBeforeTax\" contextref=\"FD2019Q3QTD\" unitref=\"iso4217_CAD\" decimals=\"-6\" scale=\"6\" format=\"ixt:numdotdecimal\">2</ix:nonfraction></span></span></div></td><td style=\"vertical-align:bottom;background-color:#cceeff;\"><div style=\"text-align:left;font-size:10pt;\"><span style=\"font-family:inherit;font-size:10pt;\"><br></span></div></td><td colspan=\"2\" style=\"vertical-align:bottom;background-color:#cceeff;padding-left:2px;padding-top:2px;padding-bottom:2px;\"><div style=\"text-align:right;font-size:9pt;\"><span style=\"font-family:Arial;font-size:9pt;font-weight:bold;\"><span><ix:nonfraction id=\"d742040e1031-wk-Fact-3CBC8509783503A8ED8F268C1661B275\" name=\"us-gaap:OtherComprehensiveIncomeLossCashFlowHedgeGainLossAfterReclassificationBeforeTax\" contextref=\"FD2020Q3YTD\" unitref=\"iso4217_CAD\" decimals=\"-6\" scale=\"6\" format=\"ixt:numdotdecimal\">6</ix:nonfraction></span></span></div></td><td style=\"vertical-align:bottom;background-color:#cceeff;\"><div style=\"text-align:left;font-size:10pt;\"><span style=\"font-family:inherit;font-size:10pt;\"><br></span></div></td><td colspan=\"2\" style=\"vertical-align:bottom;background-color:#cceeff;padding-left:2px;padding-top:2px;padding-bottom:2px;\"><div style=\"text-align:right;font-size:9pt;\"><span style=\"font-family:Arial;font-size:9pt;\"><span><ix:nonfraction id=\"d742040e1045-wk-Fact-0E1C8BCC58832708BB1B268C168324E2\" name=\"us-gaap:OtherComprehensiveIncomeLossCashFlowHedgeGainLossAfterReclassificationBeforeTax\" contextref=\"FD2019Q3YTD\" unitref=\"iso4217_CAD\" decimals=\"-6\" scale=\"6\" format=\"ixt:numdotdecimal\">8</ix:nonfraction></span></span></div></td><td style=\"vertical-align:bottom;background-color:#cceeff;\"><div style=\"text-align:left;font-size:10pt;\"><span style=\"font-family:inherit;font-size:10pt;\"><br></span></div></td></tr><tr><td style=\"vertical-align:middle;border-bottom:1px solid #000000;padding-left:12px;padding-top:2px;padding-bottom:2px;padding-right:2px;\"><div style=\"text-align:left;font-size:9pt;\"><span style=\"font-family:Arial;font-size:9pt;\">Change in pension and post-retirement defined benefit plans</span></div></td><td colspan=\"2\" style=\"vertical-align:bottom;border-bottom:1px solid #000000;padding-left:2px;padding-top:2px;padding-bottom:2px;\"><div style=\"text-align:right;font-size:9pt;\"><span style=\"font-family:Arial;font-size:9pt;font-weight:bold;\"><span><ix:nonfraction id=\"d742040e1066-wk-Fact-C6EB30760AAEB1B1BA11268C163D70B0\" name=\"us-gaap:OtherComprehensiveIncomeDefinedBenefitPlansAdjustmentBeforeTaxPortionAttributableToParent\" contextref=\"FD2020Q3QTD\" unitref=\"iso4217_CAD\" decimals=\"-6\" scale=\"6\" sign=\"-\" format=\"ixt:numdotdecimal\">44</ix:nonfraction></span></span></div></td><td style=\"vertical-align:bottom;border-bottom:1px solid #000000;\"><div style=\"text-align:left;font-size:10pt;\"><span style=\"font-family:inherit;font-size:10pt;\"><br></span></div></td><td colspan=\"2\" style=\"vertical-align:bottom;border-bottom:1px solid #000000;padding-left:2px;padding-top:2px;padding-bottom:2px;\"><div style=\"text-align:right;font-size:9pt;\"><span style=\"font-family:Arial;font-size:9pt;\"><span><ix:nonfraction id=\"d742040e1080-wk-Fact-B4FCF227E9E8F55F0DB4268C162CA9FD\" name=\"us-gaap:OtherComprehensiveIncomeDefinedBenefitPlansAdjustmentBeforeTaxPortionAttributableToParent\" contextref=\"FD2019Q3QTD\" unitref=\"iso4217_CAD\" decimals=\"-6\" scale=\"6\" sign=\"-\" format=\"ixt:numdotdecimal\">20</ix:nonfraction></span></span></div></td><td style=\"vertical-align:bottom;border-bottom:1px solid #000000;\"><div style=\"text-align:left;font-size:10pt;\"><span style=\"font-family:inherit;font-size:10pt;\"><br></span></div></td><td colspan=\"2\" style=\"vertical-align:bottom;border-bottom:1px solid #000000;padding-left:2px;padding-top:2px;padding-bottom:2px;\"><div style=\"text-align:right;font-size:9pt;\"><span style=\"font-family:Arial;font-size:9pt;font-weight:bold;\"><span><ix:nonfraction id=\"d742040e1094-wk-Fact-FDFE3DB054D34AD61F15268C165548D9\" name=\"us-gaap:OtherComprehensiveIncomeDefinedBenefitPlansAdjustmentBeforeTaxPortionAttributableToParent\" contextref=\"FD2020Q3YTD\" unitref=\"iso4217_CAD\" decimals=\"-6\" scale=\"6\" sign=\"-\" format=\"ixt:numdotdecimal\">134</ix:nonfraction></span></span></div></td><td style=\"vertical-align:bottom;border-bottom:1px solid #000000;\"><div style=\"text-align:left;font-size:10pt;\"><span style=\"font-family:inherit;font-size:10pt;\"><br></span></div></td><td colspan=\"2\" style=\"vertical-align:bottom;border-bottom:1px solid #000000;padding-left:2px;padding-top:2px;padding-bottom:2px;\"><div style=\"text-align:right;font-size:9pt;\"><span style=\"font-family:Arial;font-size:9pt;\"><span><ix:nonfraction id=\"d742040e1108-wk-Fact-DCB2273CAB14365EA2C2268C162CD5FA\" name=\"us-gaap:OtherComprehensiveIncomeDefinedBenefitPlansAdjustmentBeforeTaxPortionAttributableToParent\" contextref=\"FD2019Q3YTD\" unitref=\"iso4217_CAD\" decimals=\"-6\" scale=\"6\" sign=\"-\" format=\"ixt:numdotdecimal\">61</ix:nonfraction></span></span></div></td><td style=\"vertical-align:bottom;border-bottom:1px solid #000000;\"><div style=\"text-align:left;font-size:10pt;\"><span style=\"font-family:inherit;font-size:10pt;\"><br></span></div></td></tr><tr><td style=\"vertical-align:middle;background-color:#cceeff;padding-left:2px;padding-top:2px;padding-bottom:2px;padding-right:2px;border-top:1px solid #000000;\"><div style=\"padding-bottom:6px;padding-top:6px;text-align:left;font-size:9pt;\"><span style=\"font-family:Arial;font-size:9pt;\">Other comprehensive income before income taxes</span></div></td><td colspan=\"2\" style=\"vertical-align:bottom;background-color:#cceeff;padding-left:2px;padding-top:2px;padding-bottom:2px;\"><div style=\"text-align:right;font-size:9pt;\"><span style=\"font-family:Arial;font-size:9pt;font-weight:bold;\"><span><ix:nonfraction id=\"d742040e1129-wk-Fact-E719CB56721AF5D2E444268C169025FB\" name=\"us-gaap:OtherComprehensiveIncomeLossBeforeTaxPortionAttributableToParent\" contextref=\"FD2020Q3QTD\" unitref=\"iso4217_CAD\" decimals=\"-6\" scale=\"6\" format=\"ixt:numdotdecimal\">63</ix:nonfraction></span></span></div></td><td style=\"vertical-align:bottom;background-color:#cceeff;\"><div style=\"text-align:left;font-size:10pt;\"><span style=\"font-family:inherit;font-size:10pt;\"><br></span></div></td><td colspan=\"2\" style=\"vertical-align:bottom;background-color:#cceeff;padding-left:2px;padding-top:2px;padding-bottom:2px;border-top:1px solid #000000;\"><div style=\"text-align:right;font-size:9pt;\"><span style=\"font-family:Arial;font-size:9pt;\"><span><ix:nonfraction id=\"d742040e1143-wk-Fact-D70B0E5857C2E151A05D268C162C20F5\" name=\"us-gaap:OtherComprehensiveIncomeLossBeforeTaxPortionAttributableToParent\" contextref=\"FD2019Q3QTD\" unitref=\"iso4217_CAD\" decimals=\"-6\" scale=\"6\" format=\"ixt:numdotdecimal\">14</ix:nonfraction></span></span></div></td><td style=\"vertical-align:bottom;background-color:#cceeff;border-top:1px solid #000000;\"><div style=\"text-align:left;font-size:10pt;\"><span style=\"font-family:inherit;font-size:10pt;\"><br></span></div></td><td colspan=\"2\" style=\"vertical-align:bottom;background-color:#cceeff;padding-left:2px;padding-top:2px;padding-bottom:2px;\"><div style=\"text-align:right;font-size:9pt;\"><span style=\"font-family:Arial;font-size:9pt;font-weight:bold;\"><span><ix:nonfraction id=\"d742040e1157-wk-Fact-6CB231651BEF5D665250268C1623A861\" name=\"us-gaap:OtherComprehensiveIncomeLossBeforeTaxPortionAttributableToParent\" contextref=\"FD2020Q3YTD\" unitref=\"iso4217_CAD\" decimals=\"-6\" scale=\"6\" format=\"ixt:numdotdecimal\">122</ix:nonfraction></span></span></div></td><td style=\"vertical-align:bottom;background-color:#cceeff;\"><div style=\"text-align:left;font-size:10pt;\"><span style=\"font-family:inherit;font-size:10pt;\"><br></span></div></td><td colspan=\"2\" style=\"vertical-align:bottom;background-color:#cceeff;padding-left:2px;padding-top:2px;padding-bottom:2px;border-top:1px solid #000000;\"><div style=\"text-align:right;font-size:9pt;\"><span style=\"font-family:Arial;font-size:9pt;\"><span><ix:nonfraction id=\"d742040e1171-wk-Fact-4D31160244DEB4CA615A268C163DFF56\" name=\"us-gaap:OtherComprehensiveIncomeLossBeforeTaxPortionAttributableToParent\" contextref=\"FD2019Q3YTD\" unitref=\"iso4217_CAD\" decimals=\"-6\" scale=\"6\" format=\"ixt:numdotdecimal\">92</ix:nonfraction></span></span></div></td><td style=\"vertical-align:bottom;background-color:#cceeff;border-top:1px solid #000000;\"><div style=\"text-align:left;font-size:10pt;\"><span style=\"font-family:inherit;font-size:10pt;\"><br></span></div></td></tr><tr><td style=\"vertical-align:middle;padding-left:2px;padding-top:2px;padding-bottom:2px;padding-right:2px;\"><div style=\"text-align:left;font-size:9pt;\"><span style=\"font-family:Arial;font-size:9pt;\">Income tax (expense) recovery on above items</span></div></td><td colspan=\"2\" style=\"vertical-align:bottom;border-bottom:1px solid #000000;padding-left:2px;padding-top:2px;padding-bottom:2px;\"><div style=\"text-align:right;font-size:9pt;\"><span style=\"font-family:Arial;font-size:9pt;font-weight:bold;\"><span>(<ix:nonfraction id=\"d742040e1192-wk-Fact-7E556294B8C7A840EB0E268C163D9789\" name=\"us-gaap:OtherComprehensiveIncomeLossTaxPortionAttributableToParent1\" contextref=\"FD2020Q3QTD\" unitref=\"iso4217_CAD\" decimals=\"-6\" scale=\"6\" format=\"ixt:numdotdecimal\">29</ix:nonfraction></span></span></div></td><td style=\"vertical-align:bottom;border-bottom:1px solid #000000;padding-right:2px;padding-top:2px;padding-bottom:2px;\"><div style=\"text-align:left;font-size:9pt;\"><span style=\"font-family:Arial;font-size:9pt;font-weight:bold;\">)</span></div></td><td colspan=\"2\" style=\"vertical-align:bottom;border-bottom:1px solid #000000;padding-left:2px;padding-top:2px;padding-bottom:2px;\"><div style=\"text-align:right;font-size:9pt;\"><span style=\"font-family:Arial;font-size:9pt;\"><span><ix:nonfraction id=\"d742040e1207-wk-Fact-BCB65CB569842B29F18F268C16834193\" name=\"us-gaap:OtherComprehensiveIncomeLossTaxPortionAttributableToParent1\" contextref=\"FD2019Q3QTD\" unitref=\"iso4217_CAD\" decimals=\"-6\" scale=\"6\" sign=\"-\" format=\"ixt:numdotdecimal\">3</ix:nonfraction></span></span></div></td><td style=\"vertical-align:bottom;border-bottom:1px solid #000000;\"><div style=\"text-align:left;font-size:10pt;\"><span style=\"font-family:inherit;font-size:10pt;\"><br></span></div></td><td colspan=\"2\" style=\"vertical-align:bottom;border-bottom:1px solid #000000;padding-left:2px;padding-top:2px;padding-bottom:2px;\"><div style=\"text-align:right;font-size:9pt;\"><span style=\"font-family:Arial;font-size:9pt;font-weight:bold;\"><span>(<ix:nonfraction id=\"d742040e1221-wk-Fact-2B94915C76EFABCE83C9268C1683EEDE\" name=\"us-gaap:OtherComprehensiveIncomeLossTaxPortionAttributableToParent1\" contextref=\"FD2020Q3YTD\" unitref=\"iso4217_CAD\" decimals=\"-6\" scale=\"6\" format=\"ixt:numdotdecimal\">16</ix:nonfraction></span></span></div></td><td style=\"vertical-align:bottom;border-bottom:1px solid #000000;padding-right:2px;padding-top:2px;padding-bottom:2px;\"><div style=\"text-align:left;font-size:9pt;\"><span style=\"font-family:Arial;font-size:9pt;font-weight:bold;\">)</span></div></td><td colspan=\"2\" style=\"vertical-align:bottom;border-bottom:1px solid #000000;padding-left:2px;padding-top:2px;padding-bottom:2px;\"><div style=\"text-align:right;font-size:9pt;\"><span style=\"font-family:Arial;font-size:9pt;\"><span>(<ix:nonfraction id=\"d742040e1236-wk-Fact-2D003962DC30F86220AC268C165584F7\" name=\"us-gaap:OtherComprehensiveIncomeLossTaxPortionAttributableToParent1\" contextref=\"FD2019Q3YTD\" unitref=\"iso4217_CAD\" decimals=\"-6\" scale=\"6\" format=\"ixt:numdotdecimal\">41</ix:nonfraction></span></span></div></td><td style=\"vertical-align:bottom;border-bottom:1px solid #000000;padding-right:2px;padding-top:2px;padding-bottom:2px;\"><div style=\"text-align:left;font-size:9pt;\"><span style=\"font-family:Arial;font-size:9pt;\">)</span></div></td></tr><tr><td style=\"vertical-align:middle;border-bottom:1px solid #000000;background-color:#cceeff;padding-left:2px;padding-top:2px;padding-bottom:2px;padding-right:2px;border-top:1px solid #000000;\"><div style=\"text-align:left;font-size:9pt;\"><span style=\"font-family:Arial;font-size:9pt;\">Other comprehensive income (Note 7)</span></div></td><td colspan=\"2\" style=\"vertical-align:bottom;border-bottom:1px solid #000000;background-color:#cceeff;padding-left:2px;padding-top:2px;padding-bottom:2px;\"><div style=\"text-align:right;font-size:9pt;\"><span style=\"font-family:Arial;font-size:9pt;font-weight:bold;\"><span><ix:nonfraction id=\"d742040e1258-wk-Fact-DF2AB8FCA3E589FE8EF4268C168EA36E\" name=\"us-gaap:OtherComprehensiveIncomeLossNetOfTaxPortionAttributableToParent\" contextref=\"FD2020Q3QTD\" unitref=\"iso4217_CAD\" decimals=\"-6\" scale=\"6\" format=\"ixt:numdotdecimal\">34</ix:nonfraction></span></span></div></td><td style=\"vertical-align:bottom;border-bottom:1px solid #000000;background-color:#cceeff;\"><div style=\"text-align:left;font-size:10pt;\"><span style=\"font-family:inherit;font-size:10pt;\"><br></span></div></td><td colspan=\"2\" style=\"vertical-align:bottom;border-bottom:1px solid #000000;background-color:#cceeff;padding-left:2px;padding-top:2px;padding-bottom:2px;border-top:1px solid #000000;\"><div style=\"text-align:right;font-size:9pt;\"><span style=\"font-family:Arial;font-size:9pt;\"><span><ix:nonfraction id=\"d742040e1272-wk-Fact-4293B31D3A08549A2528268C16900287\" name=\"us-gaap:OtherComprehensiveIncomeLossNetOfTaxPortionAttributableToParent\" contextref=\"FD2019Q3QTD\" unitref=\"iso4217_CAD\" decimals=\"-6\" scale=\"6\" format=\"ixt:numdotdecimal\">17</ix:nonfraction></span></span></div></td><td style=\"vertical-align:bottom;border-bottom:1px solid #000000;background-color:#cceeff;border-top:1px solid #000000;\"><div style=\"text-align:left;font-size:10pt;\"><span style=\"font-family:inherit;font-size:10pt;\"><br></span></div></td><td colspan=\"2\" style=\"vertical-align:bottom;border-bottom:1px solid #000000;background-color:#cceeff;padding-left:2px;padding-top:2px;padding-bottom:2px;\"><div style=\"text-align:right;font-size:9pt;\"><span style=\"font-family:Arial;font-size:9pt;font-weight:bold;\"><span><ix:nonfraction id=\"d742040e1286-wk-Fact-D988D7EF662E68EDC196268C1690CAE4\" name=\"us-gaap:OtherComprehensiveIncomeLossNetOfTaxPortionAttributableToParent\" contextref=\"FD2020Q3YTD\" unitref=\"iso4217_CAD\" decimals=\"-6\" scale=\"6\" format=\"ixt:numdotdecimal\">106</ix:nonfraction></span></span></div></td><td style=\"vertical-align:bottom;border-bottom:1px solid #000000;background-color:#cceeff;\"><div style=\"text-align:left;font-size:10pt;\"><span style=\"font-family:inherit;font-size:10pt;\"><br></span></div></td><td colspan=\"2\" style=\"vertical-align:bottom;border-bottom:1px solid #000000;background-color:#cceeff;padding-left:2px;padding-top:2px;padding-bottom:2px;border-top:1px solid #000000;\"><div style=\"text-align:right;font-size:9pt;\"><span style=\"font-family:Arial;font-size:9pt;\"><span><ix:nonfraction id=\"d742040e1300-wk-Fact-5FF006F7DC9770AB9B0F268C16832980\" name=\"us-gaap:OtherComprehensiveIncomeLossNetOfTaxPortionAttributableToParent\" contextref=\"FD2019Q3YTD\" unitref=\"iso4217_CAD\" decimals=\"-6\" scale=\"6\" format=\"ixt:numdotdecimal\">51</ix:nonfraction></span></span></div></td><td style=\"vertical-align:bottom;border-bottom:1px solid #000000;background-color:#cceeff;border-top:1px solid #000000;\"><div style=\"text-align:left;font-size:10pt;\"><span style=\"font-family:inherit;font-size:10pt;\"><br></span></div></td></tr><tr><td style=\"vertical-align:middle;border-bottom:2px solid #000000;padding-left:2px;padding-top:2px;padding-bottom:2px;padding-right:2px;\"><div style=\"text-align:left;font-size:9pt;\"><span style=\"font-family:Arial;font-size:9pt;font-weight:bold;\">Comprehensive income</span></div></td><td style=\"vertical-align:bottom;border-bottom:2px solid #000000;padding-left:2px;padding-top:2px;padding-bottom:2px;\"><div style=\"text-align:left;font-size:9pt;\"><span style=\"font-family:Arial;font-size:9pt;font-weight:bold;\">$</span></div></td><td style=\"vertical-align:bottom;border-bottom:2px solid #000000;padding-top:2px;padding-bottom:2px;\"><div style=\"text-align:right;font-size:9pt;\"><span style=\"font-family:Arial;font-size:9pt;font-weight:bold;\"><span><ix:nonfraction id=\"d742040e1326-wk-Fact-6DA351E677DC0D5FD391268C168B94DB\" name=\"us-gaap:ComprehensiveIncomeNetOfTax\" contextref=\"FD2020Q3QTD\" unitref=\"iso4217_CAD\" decimals=\"-6\" scale=\"6\" format=\"ixt:numdotdecimal\">632</ix:nonfraction></span></span></div></td><td style=\"vertical-align:bottom;border-bottom:2px solid #000000;\"><div style=\"text-align:left;font-size:10pt;\"><span style=\"font-family:inherit;font-size:10pt;\"><br></span></div></td><td style=\"vertical-align:bottom;border-bottom:2px solid #000000;padding-left:2px;padding-top:2px;padding-bottom:2px;border-top:1px solid #000000;\"><div style=\"text-align:left;font-size:9pt;\"><span style=\"font-family:Arial;font-size:9pt;\">$</span></div></td><td style=\"vertical-align:bottom;border-bottom:2px solid #000000;padding-top:2px;padding-bottom:2px;border-top:1px solid #000000;\"><div style=\"text-align:right;font-size:9pt;\"><span style=\"font-family:Arial;font-size:9pt;\"><span><ix:nonfraction id=\"d742040e1340-wk-Fact-0A433E51D426926BCEE0268C1635D4C8\" name=\"us-gaap:ComprehensiveIncomeNetOfTax\" contextref=\"FD2019Q3QTD\" unitref=\"iso4217_CAD\" decimals=\"-6\" scale=\"6\" format=\"ixt:numdotdecimal\">635</ix:nonfraction></span></span></div></td><td style=\"vertical-align:bottom;border-bottom:2px solid #000000;border-top:1px solid #000000;\"><div style=\"text-align:left;font-size:10pt;\"><span style=\"font-family:inherit;font-size:10pt;\"><br></span></div></td><td style=\"vertical-align:bottom;border-bottom:2px solid #000000;padding-left:2px;padding-top:2px;padding-bottom:2px;\"><div style=\"text-align:left;font-size:9pt;\"><span style=\"font-family:Arial;font-size:9pt;font-weight:bold;\">$</span></div></td><td style=\"vertical-align:bottom;border-bottom:2px solid #000000;padding-top:2px;padding-bottom:2px;\"><div style=\"text-align:right;font-size:9pt;\"><span style=\"font-family:Arial;font-size:9pt;font-weight:bold;\"><span><ix:nonfraction id=\"d742040e1354-wk-Fact-D8DE420A377FDC9771FD268C1690DDF9\" name=\"us-gaap:ComprehensiveIncomeNetOfTax\" contextref=\"FD2020Q3YTD\" unitref=\"iso4217_CAD\" decimals=\"-6\" scale=\"6\" format=\"ixt:numdotdecimal\">1,748</ix:nonfraction></span></span></div></td><td style=\"vertical-align:bottom;border-bottom:2px solid #000000;\"><div style=\"text-align:left;font-size:10pt;\"><span style=\"font-family:inherit;font-size:10pt;\"><br></span></div></td><td style=\"vertical-align:bottom;border-bottom:2px solid #000000;padding-left:2px;padding-top:2px;padding-bottom:2px;border-top:1px solid #000000;\"><div style=\"text-align:left;font-size:9pt;\"><span style=\"font-family:Arial;font-size:9pt;\">$</span></div></td><td style=\"vertical-align:bottom;border-bottom:2px solid #000000;padding-top:2px;padding-bottom:2px;border-top:1px solid #000000;\"><div style=\"text-align:right;font-size:9pt;\"><span style=\"font-family:Arial;font-size:9pt;\"><span><ix:nonfraction id=\"d742040e1369-wk-Fact-3000F1CD0547D05A4C25268C162CA6F5\" name=\"us-gaap:ComprehensiveIncomeNetOfTax\" contextref=\"FD2019Q3YTD\" unitref=\"iso4217_CAD\" decimals=\"-6\" scale=\"6\" format=\"ixt:numdotdecimal\">1,827</ix:nonfraction></span></span></div></td><td style=\"vertical-align:bottom;border-bottom:2px solid #000000;border-top:1px solid #000000;\"><div style=\"text-align:left;font-size:10pt;\"><span style=\"font-family:inherit;font-size:10pt;\"><br></span></div></td></tr></tbody></table>"
      ],
      "text/plain": [
       "<IPython.core.display.HTML object>"
      ]
     },
     "metadata": {},
     "output_type": "display_data"
    }
   ],
   "source": [
    "display(HTML(TABLE_10Q_CP_0000016875_20_000032__001))"
   ]
  },
  {
   "cell_type": "code",
   "execution_count": 5,
   "metadata": {},
   "outputs": [
    {
     "data": {
      "text/html": [
       "<html><body><table cellpadding=\"0\" cellspacing=\"0\" style=\"font-family:Times New Roman;font-size:10pt;width:100%;border-collapse:collapse;text-align:left;\"><tbody><tr><td>NaN</td><td>NaN</td><td>NaN</td><td>NaN</td><td>NaN</td><td>NaN</td><td>NaN</td><td>NaN</td><td>NaN</td><td>NaN</td><td>NaN</td><td>NaN</td><td colspan=\"1\"></td></tr><tr><td style=\"width:60%;\"></td><td style=\"width:1%;\"></td><td style=\"width:8%;\"></td><td style=\"width:1%;\"></td><td style=\"width:1%;\"></td><td style=\"width:8%;\"></td><td style=\"width:1%;\"></td><td style=\"width:1%;\"></td><td style=\"width:8%;\"></td><td style=\"width:1%;\"></td><td style=\"width:1%;\"></td><td style=\"width:8%;\"></td><td style=\"width:1%;\"></td></tr><tr><td style=\"vertical-align:bottom;padding-left:2px;padding-top:2px;padding-bottom:2px;padding-right:2px;\"><div style=\"overflow:hidden;font-size:10pt;\"><span style=\"font-family:inherit;font-size:10pt;\"> </span></div></td><td>NaN</td><td>NaN</td><td>NaN</td><td>NaN</td><td>NaN</td><td colspan=\"1\" style=\"vertical-align:bottom;border-bottom:1px solid #000000;padding-left:2px;padding-top:2px;padding-bottom:2px;\"><div style=\"text-align:center;font-size:9pt;\"><span style=\"font-family:Arial;font-size:9pt;font-weight:bold;\">For the three months ended September 30</span></div></td><td>NaN</td><td>NaN</td><td>NaN</td><td>NaN</td><td>NaN</td><td colspan=\"1\" style=\"vertical-align:bottom;border-bottom:1px solid #000000;padding-left:2px;padding-top:2px;padding-bottom:2px;\"><div style=\"text-align:center;font-size:9pt;\"><span style=\"font-family:Arial;font-size:9pt;font-weight:bold;\">For the nine months ended September 30</span></div></td></tr><tr><td style=\"vertical-align:top;border-bottom:2px solid #000000;padding-left:2px;padding-top:2px;padding-bottom:2px;padding-right:2px;\"><div style=\"text-align:left;font-size:9pt;\"><span style=\"font-family:Arial;font-size:9pt;\">(in millions of Canadian dollars)</span></div></td><td>NaN</td><td>NaN</td><td colspan=\"1\" style=\"vertical-align:bottom;border-bottom:2px solid #000000;padding-left:2px;padding-top:2px;padding-bottom:2px;padding-right:2px;\"><div style=\"text-align:center;font-size:9pt;\"><span style=\"font-family:Arial;font-size:9pt;font-weight:bold;\">2020</span></div></td><td>NaN</td><td>NaN</td><td colspan=\"1\" style=\"vertical-align:bottom;border-bottom:2px solid #000000;padding-left:2px;padding-top:2px;padding-bottom:2px;padding-right:2px;\"><div style=\"text-align:center;font-size:9pt;\"><span style=\"font-family:Arial;font-size:9pt;\">2019</span></div></td><td>NaN</td><td>NaN</td><td colspan=\"1\" style=\"vertical-align:bottom;border-bottom:2px solid #000000;padding-left:2px;padding-top:2px;padding-bottom:2px;padding-right:2px;\"><div style=\"text-align:center;font-size:9pt;\"><span style=\"font-family:Arial;font-size:9pt;font-weight:bold;\">2020</span></div></td><td>NaN</td><td>NaN</td><td colspan=\"1\" style=\"vertical-align:bottom;border-bottom:2px solid #000000;padding-left:2px;padding-top:2px;padding-bottom:2px;padding-right:2px;\"><div style=\"text-align:center;font-size:9pt;\"><span style=\"font-family:Arial;font-size:9pt;\">2019</span></div></td></tr><tr><td style=\"vertical-align:middle;background-color:#cceeff;padding-left:2px;padding-top:2px;padding-bottom:2px;padding-right:2px;border-top:2px solid #000000;\"><div style=\"text-align:left;font-size:9pt;\"><span style=\"font-family:Arial;font-size:9pt;\">Net income</span></div></td><td style=\"vertical-align:bottom;padding-left:2px;padding-top:2px;padding-bottom:2px;background-color:#cceeff;border-top:2px solid #000000;\"><div style=\"text-align:left;font-size:9pt;\"><span style=\"font-family:Arial;font-size:9pt;font-weight:bold;\">$</span></div></td><td style=\"vertical-align:bottom;background-color:#cceeff;padding-top:2px;padding-bottom:2px;border-top:2px solid #000000;\"><div style=\"text-align:right;font-size:9pt;\"><span style=\"font-family:Arial;font-size:9pt;font-weight:bold;\"><span><ix:nonfraction contextref=\"FD2020Q3QTD\" decimals=\"-6\" format=\"ixt:numdotdecimal\" id=\"d742040e880-wk-Fact-3D6A129E4F7E11A9FC47268C162C2C40\" name=\"us-gaap:NetIncomeLoss\" scale=\"6\" unitref=\"iso4217_CAD\">598</ix:nonfraction></span></span></div></td><td style=\"vertical-align:bottom;background-color:#cceeff;border-top:2px solid #000000;\"><div style=\"text-align:left;font-size:10pt;\"><span style=\"font-family:inherit;font-size:10pt;\"><br/></span></div></td><td style=\"vertical-align:bottom;padding-left:2px;padding-top:2px;padding-bottom:2px;background-color:#cceeff;border-top:2px solid #000000;\"><div style=\"text-align:left;font-size:9pt;\"><span style=\"font-family:Arial;font-size:9pt;\">$</span></div></td><td style=\"vertical-align:bottom;background-color:#cceeff;padding-top:2px;padding-bottom:2px;border-top:2px solid #000000;\"><div style=\"text-align:right;font-size:9pt;\"><span style=\"font-family:Arial;font-size:9pt;\"><span><ix:nonfraction contextref=\"FD2019Q3QTD\" decimals=\"-6\" format=\"ixt:numdotdecimal\" id=\"d742040e894-wk-Fact-CB1B6FD42F35C73D08B9268C164DF9E2\" name=\"us-gaap:NetIncomeLoss\" scale=\"6\" unitref=\"iso4217_CAD\">618</ix:nonfraction></span></span></div></td><td style=\"vertical-align:bottom;background-color:#cceeff;border-top:2px solid #000000;\"><div style=\"text-align:left;font-size:10pt;\"><span style=\"font-family:inherit;font-size:10pt;\"><br/></span></div></td><td style=\"vertical-align:bottom;padding-left:2px;padding-top:2px;padding-bottom:2px;background-color:#cceeff;border-top:2px solid #000000;\"><div style=\"text-align:left;font-size:9pt;\"><span style=\"font-family:Arial;font-size:9pt;font-weight:bold;\">$</span></div></td><td style=\"vertical-align:bottom;background-color:#cceeff;padding-top:2px;padding-bottom:2px;border-top:2px solid #000000;\"><div style=\"text-align:right;font-size:9pt;\"><span style=\"font-family:Arial;font-size:9pt;font-weight:bold;\"><span><ix:nonfraction contextref=\"FD2020Q3YTD\" decimals=\"-6\" format=\"ixt:numdotdecimal\" id=\"d742040e908-wk-Fact-760561D0617E2A60BA84268C16359E69\" name=\"us-gaap:NetIncomeLoss\" scale=\"6\" unitref=\"iso4217_CAD\">1,642</ix:nonfraction></span></span></div></td><td style=\"vertical-align:bottom;background-color:#cceeff;border-top:2px solid #000000;\"><div style=\"text-align:left;font-size:10pt;\"><span style=\"font-family:inherit;font-size:10pt;\"><br/></span></div></td><td style=\"vertical-align:bottom;padding-left:2px;padding-top:2px;padding-bottom:2px;background-color:#cceeff;\"><div style=\"text-align:left;font-size:9pt;\"><span style=\"font-family:Arial;font-size:9pt;\">$</span></div></td><td style=\"vertical-align:bottom;background-color:#cceeff;padding-top:2px;padding-bottom:2px;\"><div style=\"text-align:right;font-size:9pt;\"><span style=\"font-family:Arial;font-size:9pt;\"><span><ix:nonfraction contextref=\"FD2019Q3YTD\" decimals=\"-6\" format=\"ixt:numdotdecimal\" id=\"d742040e923-wk-Fact-96A31269D8012275E97E268C1690257F\" name=\"us-gaap:NetIncomeLoss\" scale=\"6\" unitref=\"iso4217_CAD\">1,776</ix:nonfraction></span></span></div></td><td style=\"vertical-align:bottom;background-color:#cceeff;\"><div style=\"text-align:left;font-size:10pt;\"><span style=\"font-family:inherit;font-size:10pt;\"><br/></span></div></td></tr><tr><td style=\"vertical-align:middle;padding-left:12px;padding-top:2px;padding-bottom:2px;padding-right:2px;\"><div style=\"text-align:left;font-size:9pt;\"><span style=\"font-family:Arial;font-size:9pt;\">Net gain (loss) in foreign currency translation adjustments, net of hedging activities</span></div></td><td>NaN</td><td colspan=\"1\" style=\"vertical-align:bottom;padding-left:2px;padding-top:2px;padding-bottom:2px;\"><div style=\"text-align:right;font-size:9pt;\"><span style=\"font-family:Arial;font-size:9pt;font-weight:bold;\"><span><ix:nonfraction contextref=\"FD2020Q3QTD\" decimals=\"-6\" format=\"ixt:numdotdecimal\" id=\"d742040e938-wk-Fact-8EF64D4AB5FB77A51497268C162CC754\" name=\"us-gaap:OtherComprehensiveIncomeForeignCurrencyTransactionAndTranslationAdjustmentBeforeTaxPortionAttributableToParent\" scale=\"6\" unitref=\"iso4217_CAD\">16</ix:nonfraction></span></span></div></td><td style=\"vertical-align:bottom;\"><div style=\"text-align:left;font-size:10pt;\"><span style=\"font-family:inherit;font-size:10pt;\"><br/></span></div></td><td>NaN</td><td colspan=\"1\" style=\"vertical-align:bottom;padding-left:2px;padding-top:2px;padding-bottom:2px;\"><div style=\"text-align:right;font-size:9pt;\"><span style=\"font-family:Arial;font-size:9pt;\"><span>(<ix:nonfraction contextref=\"FD2019Q3QTD\" decimals=\"-6\" format=\"ixt:numdotdecimal\" id=\"d742040e952-wk-Fact-82F9DCF8DF77557A88DE268C162CD183\" name=\"us-gaap:OtherComprehensiveIncomeForeignCurrencyTransactionAndTranslationAdjustmentBeforeTaxPortionAttributableToParent\" scale=\"6\" sign=\"-\" unitref=\"iso4217_CAD\">8</ix:nonfraction></span></span></div></td><td style=\"vertical-align:bottom;padding-right:2px;padding-top:2px;padding-bottom:2px;\"><div style=\"text-align:left;font-size:9pt;\"><span style=\"font-family:Arial;font-size:9pt;\">)</span></div></td><td>NaN</td><td colspan=\"1\" style=\"vertical-align:bottom;padding-left:2px;padding-top:2px;padding-bottom:2px;\"><div style=\"text-align:right;font-size:9pt;\"><span style=\"font-family:Arial;font-size:9pt;font-weight:bold;\"><span>(<ix:nonfraction contextref=\"FD2020Q3YTD\" decimals=\"-6\" format=\"ixt:numdotdecimal\" id=\"d742040e967-wk-Fact-11E0588AB5CB01AF405B268C1635A90A\" name=\"us-gaap:OtherComprehensiveIncomeForeignCurrencyTransactionAndTranslationAdjustmentBeforeTaxPortionAttributableToParent\" scale=\"6\" sign=\"-\" unitref=\"iso4217_CAD\">18</ix:nonfraction></span></span></div></td><td style=\"vertical-align:bottom;padding-right:2px;padding-top:2px;padding-bottom:2px;\"><div style=\"text-align:left;font-size:9pt;\"><span style=\"font-family:Arial;font-size:9pt;font-weight:bold;\">)</span></div></td><td>NaN</td><td colspan=\"1\" style=\"vertical-align:bottom;padding-left:2px;padding-top:2px;padding-bottom:2px;\"><div style=\"text-align:right;font-size:9pt;\"><span style=\"font-family:Arial;font-size:9pt;\"><span><ix:nonfraction contextref=\"FD2019Q3YTD\" decimals=\"-6\" format=\"ixt:numdotdecimal\" id=\"d742040e982-wk-Fact-4F15035DBBF815457F23268C16230BF7\" name=\"us-gaap:OtherComprehensiveIncomeForeignCurrencyTransactionAndTranslationAdjustmentBeforeTaxPortionAttributableToParent\" scale=\"6\" unitref=\"iso4217_CAD\">23</ix:nonfraction></span></span></div></td><td style=\"vertical-align:bottom;\"><div style=\"text-align:left;font-size:10pt;\"><span style=\"font-family:inherit;font-size:10pt;\"><br/></span></div></td></tr><tr><td style=\"vertical-align:middle;background-color:#cceeff;padding-left:12px;padding-top:2px;padding-bottom:2px;padding-right:2px;\"><div style=\"text-align:left;font-size:9pt;\"><span style=\"font-family:Arial;font-size:9pt;\">Change in derivatives designated as cash flow hedges</span></div></td><td>NaN</td><td colspan=\"1\" style=\"vertical-align:bottom;background-color:#cceeff;padding-left:2px;padding-top:2px;padding-bottom:2px;\"><div style=\"text-align:right;font-size:9pt;\"><span style=\"font-family:Arial;font-size:9pt;font-weight:bold;\"><span><ix:nonfraction contextref=\"FD2020Q3QTD\" decimals=\"-6\" format=\"ixt:numdotdecimal\" id=\"d742040e1003-wk-Fact-C4BDAD8CAFC63B5D2BE8268C162C8C18\" name=\"us-gaap:OtherComprehensiveIncomeLossCashFlowHedgeGainLossAfterReclassificationBeforeTax\" scale=\"6\" unitref=\"iso4217_CAD\">3</ix:nonfraction></span></span></div></td><td style=\"vertical-align:bottom;background-color:#cceeff;\"><div style=\"text-align:left;font-size:10pt;\"><span style=\"font-family:inherit;font-size:10pt;\"><br/></span></div></td><td>NaN</td><td colspan=\"1\" style=\"vertical-align:bottom;background-color:#cceeff;padding-left:2px;padding-top:2px;padding-bottom:2px;\"><div style=\"text-align:right;font-size:9pt;\"><span style=\"font-family:Arial;font-size:9pt;\"><span><ix:nonfraction contextref=\"FD2019Q3QTD\" decimals=\"-6\" format=\"ixt:numdotdecimal\" id=\"d742040e1017-wk-Fact-AEDCEDD9EDBC1058BD93268C1635E834\" name=\"us-gaap:OtherComprehensiveIncomeLossCashFlowHedgeGainLossAfterReclassificationBeforeTax\" scale=\"6\" unitref=\"iso4217_CAD\">2</ix:nonfraction></span></span></div></td><td style=\"vertical-align:bottom;background-color:#cceeff;\"><div style=\"text-align:left;font-size:10pt;\"><span style=\"font-family:inherit;font-size:10pt;\"><br/></span></div></td><td>NaN</td><td colspan=\"1\" style=\"vertical-align:bottom;background-color:#cceeff;padding-left:2px;padding-top:2px;padding-bottom:2px;\"><div style=\"text-align:right;font-size:9pt;\"><span style=\"font-family:Arial;font-size:9pt;font-weight:bold;\"><span><ix:nonfraction contextref=\"FD2020Q3YTD\" decimals=\"-6\" format=\"ixt:numdotdecimal\" id=\"d742040e1031-wk-Fact-3CBC8509783503A8ED8F268C1661B275\" name=\"us-gaap:OtherComprehensiveIncomeLossCashFlowHedgeGainLossAfterReclassificationBeforeTax\" scale=\"6\" unitref=\"iso4217_CAD\">6</ix:nonfraction></span></span></div></td><td style=\"vertical-align:bottom;background-color:#cceeff;\"><div style=\"text-align:left;font-size:10pt;\"><span style=\"font-family:inherit;font-size:10pt;\"><br/></span></div></td><td>NaN</td><td colspan=\"1\" style=\"vertical-align:bottom;background-color:#cceeff;padding-left:2px;padding-top:2px;padding-bottom:2px;\"><div style=\"text-align:right;font-size:9pt;\"><span style=\"font-family:Arial;font-size:9pt;\"><span><ix:nonfraction contextref=\"FD2019Q3YTD\" decimals=\"-6\" format=\"ixt:numdotdecimal\" id=\"d742040e1045-wk-Fact-0E1C8BCC58832708BB1B268C168324E2\" name=\"us-gaap:OtherComprehensiveIncomeLossCashFlowHedgeGainLossAfterReclassificationBeforeTax\" scale=\"6\" unitref=\"iso4217_CAD\">8</ix:nonfraction></span></span></div></td><td style=\"vertical-align:bottom;background-color:#cceeff;\"><div style=\"text-align:left;font-size:10pt;\"><span style=\"font-family:inherit;font-size:10pt;\"><br/></span></div></td></tr><tr><td style=\"vertical-align:middle;border-bottom:1px solid #000000;padding-left:12px;padding-top:2px;padding-bottom:2px;padding-right:2px;\"><div style=\"text-align:left;font-size:9pt;\"><span style=\"font-family:Arial;font-size:9pt;\">Change in pension and post-retirement defined benefit plans</span></div></td><td>NaN</td><td colspan=\"1\" style=\"vertical-align:bottom;border-bottom:1px solid #000000;padding-left:2px;padding-top:2px;padding-bottom:2px;\"><div style=\"text-align:right;font-size:9pt;\"><span style=\"font-family:Arial;font-size:9pt;font-weight:bold;\"><span><ix:nonfraction contextref=\"FD2020Q3QTD\" decimals=\"-6\" format=\"ixt:numdotdecimal\" id=\"d742040e1066-wk-Fact-C6EB30760AAEB1B1BA11268C163D70B0\" name=\"us-gaap:OtherComprehensiveIncomeDefinedBenefitPlansAdjustmentBeforeTaxPortionAttributableToParent\" scale=\"6\" sign=\"-\" unitref=\"iso4217_CAD\">44</ix:nonfraction></span></span></div></td><td style=\"vertical-align:bottom;border-bottom:1px solid #000000;\"><div style=\"text-align:left;font-size:10pt;\"><span style=\"font-family:inherit;font-size:10pt;\"><br/></span></div></td><td>NaN</td><td colspan=\"1\" style=\"vertical-align:bottom;border-bottom:1px solid #000000;padding-left:2px;padding-top:2px;padding-bottom:2px;\"><div style=\"text-align:right;font-size:9pt;\"><span style=\"font-family:Arial;font-size:9pt;\"><span><ix:nonfraction contextref=\"FD2019Q3QTD\" decimals=\"-6\" format=\"ixt:numdotdecimal\" id=\"d742040e1080-wk-Fact-B4FCF227E9E8F55F0DB4268C162CA9FD\" name=\"us-gaap:OtherComprehensiveIncomeDefinedBenefitPlansAdjustmentBeforeTaxPortionAttributableToParent\" scale=\"6\" sign=\"-\" unitref=\"iso4217_CAD\">20</ix:nonfraction></span></span></div></td><td style=\"vertical-align:bottom;border-bottom:1px solid #000000;\"><div style=\"text-align:left;font-size:10pt;\"><span style=\"font-family:inherit;font-size:10pt;\"><br/></span></div></td><td>NaN</td><td colspan=\"1\" style=\"vertical-align:bottom;border-bottom:1px solid #000000;padding-left:2px;padding-top:2px;padding-bottom:2px;\"><div style=\"text-align:right;font-size:9pt;\"><span style=\"font-family:Arial;font-size:9pt;font-weight:bold;\"><span><ix:nonfraction contextref=\"FD2020Q3YTD\" decimals=\"-6\" format=\"ixt:numdotdecimal\" id=\"d742040e1094-wk-Fact-FDFE3DB054D34AD61F15268C165548D9\" name=\"us-gaap:OtherComprehensiveIncomeDefinedBenefitPlansAdjustmentBeforeTaxPortionAttributableToParent\" scale=\"6\" sign=\"-\" unitref=\"iso4217_CAD\">134</ix:nonfraction></span></span></div></td><td style=\"vertical-align:bottom;border-bottom:1px solid #000000;\"><div style=\"text-align:left;font-size:10pt;\"><span style=\"font-family:inherit;font-size:10pt;\"><br/></span></div></td><td>NaN</td><td colspan=\"1\" style=\"vertical-align:bottom;border-bottom:1px solid #000000;padding-left:2px;padding-top:2px;padding-bottom:2px;\"><div style=\"text-align:right;font-size:9pt;\"><span style=\"font-family:Arial;font-size:9pt;\"><span><ix:nonfraction contextref=\"FD2019Q3YTD\" decimals=\"-6\" format=\"ixt:numdotdecimal\" id=\"d742040e1108-wk-Fact-DCB2273CAB14365EA2C2268C162CD5FA\" name=\"us-gaap:OtherComprehensiveIncomeDefinedBenefitPlansAdjustmentBeforeTaxPortionAttributableToParent\" scale=\"6\" sign=\"-\" unitref=\"iso4217_CAD\">61</ix:nonfraction></span></span></div></td><td style=\"vertical-align:bottom;border-bottom:1px solid #000000;\"><div style=\"text-align:left;font-size:10pt;\"><span style=\"font-family:inherit;font-size:10pt;\"><br/></span></div></td></tr><tr><td style=\"vertical-align:middle;background-color:#cceeff;padding-left:2px;padding-top:2px;padding-bottom:2px;padding-right:2px;border-top:1px solid #000000;\"><div style=\"padding-bottom:6px;padding-top:6px;text-align:left;font-size:9pt;\"><span style=\"font-family:Arial;font-size:9pt;\">Other comprehensive income before income taxes</span></div></td><td>NaN</td><td colspan=\"1\" style=\"vertical-align:bottom;background-color:#cceeff;padding-left:2px;padding-top:2px;padding-bottom:2px;\"><div style=\"text-align:right;font-size:9pt;\"><span style=\"font-family:Arial;font-size:9pt;font-weight:bold;\"><span><ix:nonfraction contextref=\"FD2020Q3QTD\" decimals=\"-6\" format=\"ixt:numdotdecimal\" id=\"d742040e1129-wk-Fact-E719CB56721AF5D2E444268C169025FB\" name=\"us-gaap:OtherComprehensiveIncomeLossBeforeTaxPortionAttributableToParent\" scale=\"6\" unitref=\"iso4217_CAD\">63</ix:nonfraction></span></span></div></td><td style=\"vertical-align:bottom;background-color:#cceeff;\"><div style=\"text-align:left;font-size:10pt;\"><span style=\"font-family:inherit;font-size:10pt;\"><br/></span></div></td><td>NaN</td><td colspan=\"1\" style=\"vertical-align:bottom;background-color:#cceeff;padding-left:2px;padding-top:2px;padding-bottom:2px;border-top:1px solid #000000;\"><div style=\"text-align:right;font-size:9pt;\"><span style=\"font-family:Arial;font-size:9pt;\"><span><ix:nonfraction contextref=\"FD2019Q3QTD\" decimals=\"-6\" format=\"ixt:numdotdecimal\" id=\"d742040e1143-wk-Fact-D70B0E5857C2E151A05D268C162C20F5\" name=\"us-gaap:OtherComprehensiveIncomeLossBeforeTaxPortionAttributableToParent\" scale=\"6\" unitref=\"iso4217_CAD\">14</ix:nonfraction></span></span></div></td><td style=\"vertical-align:bottom;background-color:#cceeff;border-top:1px solid #000000;\"><div style=\"text-align:left;font-size:10pt;\"><span style=\"font-family:inherit;font-size:10pt;\"><br/></span></div></td><td>NaN</td><td colspan=\"1\" style=\"vertical-align:bottom;background-color:#cceeff;padding-left:2px;padding-top:2px;padding-bottom:2px;\"><div style=\"text-align:right;font-size:9pt;\"><span style=\"font-family:Arial;font-size:9pt;font-weight:bold;\"><span><ix:nonfraction contextref=\"FD2020Q3YTD\" decimals=\"-6\" format=\"ixt:numdotdecimal\" id=\"d742040e1157-wk-Fact-6CB231651BEF5D665250268C1623A861\" name=\"us-gaap:OtherComprehensiveIncomeLossBeforeTaxPortionAttributableToParent\" scale=\"6\" unitref=\"iso4217_CAD\">122</ix:nonfraction></span></span></div></td><td style=\"vertical-align:bottom;background-color:#cceeff;\"><div style=\"text-align:left;font-size:10pt;\"><span style=\"font-family:inherit;font-size:10pt;\"><br/></span></div></td><td>NaN</td><td colspan=\"1\" style=\"vertical-align:bottom;background-color:#cceeff;padding-left:2px;padding-top:2px;padding-bottom:2px;border-top:1px solid #000000;\"><div style=\"text-align:right;font-size:9pt;\"><span style=\"font-family:Arial;font-size:9pt;\"><span><ix:nonfraction contextref=\"FD2019Q3YTD\" decimals=\"-6\" format=\"ixt:numdotdecimal\" id=\"d742040e1171-wk-Fact-4D31160244DEB4CA615A268C163DFF56\" name=\"us-gaap:OtherComprehensiveIncomeLossBeforeTaxPortionAttributableToParent\" scale=\"6\" unitref=\"iso4217_CAD\">92</ix:nonfraction></span></span></div></td><td style=\"vertical-align:bottom;background-color:#cceeff;border-top:1px solid #000000;\"><div style=\"text-align:left;font-size:10pt;\"><span style=\"font-family:inherit;font-size:10pt;\"><br/></span></div></td></tr><tr><td style=\"vertical-align:middle;padding-left:2px;padding-top:2px;padding-bottom:2px;padding-right:2px;\"><div style=\"text-align:left;font-size:9pt;\"><span style=\"font-family:Arial;font-size:9pt;\">Income tax (expense) recovery on above items</span></div></td><td>NaN</td><td colspan=\"1\" style=\"vertical-align:bottom;border-bottom:1px solid #000000;padding-left:2px;padding-top:2px;padding-bottom:2px;\"><div style=\"text-align:right;font-size:9pt;\"><span style=\"font-family:Arial;font-size:9pt;font-weight:bold;\"><span>(<ix:nonfraction contextref=\"FD2020Q3QTD\" decimals=\"-6\" format=\"ixt:numdotdecimal\" id=\"d742040e1192-wk-Fact-7E556294B8C7A840EB0E268C163D9789\" name=\"us-gaap:OtherComprehensiveIncomeLossTaxPortionAttributableToParent1\" scale=\"6\" unitref=\"iso4217_CAD\">29</ix:nonfraction></span></span></div></td><td style=\"vertical-align:bottom;border-bottom:1px solid #000000;padding-right:2px;padding-top:2px;padding-bottom:2px;\"><div style=\"text-align:left;font-size:9pt;\"><span style=\"font-family:Arial;font-size:9pt;font-weight:bold;\">)</span></div></td><td>NaN</td><td colspan=\"1\" style=\"vertical-align:bottom;border-bottom:1px solid #000000;padding-left:2px;padding-top:2px;padding-bottom:2px;\"><div style=\"text-align:right;font-size:9pt;\"><span style=\"font-family:Arial;font-size:9pt;\"><span><ix:nonfraction contextref=\"FD2019Q3QTD\" decimals=\"-6\" format=\"ixt:numdotdecimal\" id=\"d742040e1207-wk-Fact-BCB65CB569842B29F18F268C16834193\" name=\"us-gaap:OtherComprehensiveIncomeLossTaxPortionAttributableToParent1\" scale=\"6\" sign=\"-\" unitref=\"iso4217_CAD\">3</ix:nonfraction></span></span></div></td><td style=\"vertical-align:bottom;border-bottom:1px solid #000000;\"><div style=\"text-align:left;font-size:10pt;\"><span style=\"font-family:inherit;font-size:10pt;\"><br/></span></div></td><td>NaN</td><td colspan=\"1\" style=\"vertical-align:bottom;border-bottom:1px solid #000000;padding-left:2px;padding-top:2px;padding-bottom:2px;\"><div style=\"text-align:right;font-size:9pt;\"><span style=\"font-family:Arial;font-size:9pt;font-weight:bold;\"><span>(<ix:nonfraction contextref=\"FD2020Q3YTD\" decimals=\"-6\" format=\"ixt:numdotdecimal\" id=\"d742040e1221-wk-Fact-2B94915C76EFABCE83C9268C1683EEDE\" name=\"us-gaap:OtherComprehensiveIncomeLossTaxPortionAttributableToParent1\" scale=\"6\" unitref=\"iso4217_CAD\">16</ix:nonfraction></span></span></div></td><td style=\"vertical-align:bottom;border-bottom:1px solid #000000;padding-right:2px;padding-top:2px;padding-bottom:2px;\"><div style=\"text-align:left;font-size:9pt;\"><span style=\"font-family:Arial;font-size:9pt;font-weight:bold;\">)</span></div></td><td>NaN</td><td colspan=\"1\" style=\"vertical-align:bottom;border-bottom:1px solid #000000;padding-left:2px;padding-top:2px;padding-bottom:2px;\"><div style=\"text-align:right;font-size:9pt;\"><span style=\"font-family:Arial;font-size:9pt;\"><span>(<ix:nonfraction contextref=\"FD2019Q3YTD\" decimals=\"-6\" format=\"ixt:numdotdecimal\" id=\"d742040e1236-wk-Fact-2D003962DC30F86220AC268C165584F7\" name=\"us-gaap:OtherComprehensiveIncomeLossTaxPortionAttributableToParent1\" scale=\"6\" unitref=\"iso4217_CAD\">41</ix:nonfraction></span></span></div></td><td style=\"vertical-align:bottom;border-bottom:1px solid #000000;padding-right:2px;padding-top:2px;padding-bottom:2px;\"><div style=\"text-align:left;font-size:9pt;\"><span style=\"font-family:Arial;font-size:9pt;\">)</span></div></td></tr><tr><td style=\"vertical-align:middle;border-bottom:1px solid #000000;background-color:#cceeff;padding-left:2px;padding-top:2px;padding-bottom:2px;padding-right:2px;border-top:1px solid #000000;\"><div style=\"text-align:left;font-size:9pt;\"><span style=\"font-family:Arial;font-size:9pt;\">Other comprehensive income (Note 7)</span></div></td><td>NaN</td><td colspan=\"1\" style=\"vertical-align:bottom;border-bottom:1px solid #000000;background-color:#cceeff;padding-left:2px;padding-top:2px;padding-bottom:2px;\"><div style=\"text-align:right;font-size:9pt;\"><span style=\"font-family:Arial;font-size:9pt;font-weight:bold;\"><span><ix:nonfraction contextref=\"FD2020Q3QTD\" decimals=\"-6\" format=\"ixt:numdotdecimal\" id=\"d742040e1258-wk-Fact-DF2AB8FCA3E589FE8EF4268C168EA36E\" name=\"us-gaap:OtherComprehensiveIncomeLossNetOfTaxPortionAttributableToParent\" scale=\"6\" unitref=\"iso4217_CAD\">34</ix:nonfraction></span></span></div></td><td style=\"vertical-align:bottom;border-bottom:1px solid #000000;background-color:#cceeff;\"><div style=\"text-align:left;font-size:10pt;\"><span style=\"font-family:inherit;font-size:10pt;\"><br/></span></div></td><td>NaN</td><td colspan=\"1\" style=\"vertical-align:bottom;border-bottom:1px solid #000000;background-color:#cceeff;padding-left:2px;padding-top:2px;padding-bottom:2px;border-top:1px solid #000000;\"><div style=\"text-align:right;font-size:9pt;\"><span style=\"font-family:Arial;font-size:9pt;\"><span><ix:nonfraction contextref=\"FD2019Q3QTD\" decimals=\"-6\" format=\"ixt:numdotdecimal\" id=\"d742040e1272-wk-Fact-4293B31D3A08549A2528268C16900287\" name=\"us-gaap:OtherComprehensiveIncomeLossNetOfTaxPortionAttributableToParent\" scale=\"6\" unitref=\"iso4217_CAD\">17</ix:nonfraction></span></span></div></td><td style=\"vertical-align:bottom;border-bottom:1px solid #000000;background-color:#cceeff;border-top:1px solid #000000;\"><div style=\"text-align:left;font-size:10pt;\"><span style=\"font-family:inherit;font-size:10pt;\"><br/></span></div></td><td>NaN</td><td colspan=\"1\" style=\"vertical-align:bottom;border-bottom:1px solid #000000;background-color:#cceeff;padding-left:2px;padding-top:2px;padding-bottom:2px;\"><div style=\"text-align:right;font-size:9pt;\"><span style=\"font-family:Arial;font-size:9pt;font-weight:bold;\"><span><ix:nonfraction contextref=\"FD2020Q3YTD\" decimals=\"-6\" format=\"ixt:numdotdecimal\" id=\"d742040e1286-wk-Fact-D988D7EF662E68EDC196268C1690CAE4\" name=\"us-gaap:OtherComprehensiveIncomeLossNetOfTaxPortionAttributableToParent\" scale=\"6\" unitref=\"iso4217_CAD\">106</ix:nonfraction></span></span></div></td><td style=\"vertical-align:bottom;border-bottom:1px solid #000000;background-color:#cceeff;\"><div style=\"text-align:left;font-size:10pt;\"><span style=\"font-family:inherit;font-size:10pt;\"><br/></span></div></td><td>NaN</td><td colspan=\"1\" style=\"vertical-align:bottom;border-bottom:1px solid #000000;background-color:#cceeff;padding-left:2px;padding-top:2px;padding-bottom:2px;border-top:1px solid #000000;\"><div style=\"text-align:right;font-size:9pt;\"><span style=\"font-family:Arial;font-size:9pt;\"><span><ix:nonfraction contextref=\"FD2019Q3YTD\" decimals=\"-6\" format=\"ixt:numdotdecimal\" id=\"d742040e1300-wk-Fact-5FF006F7DC9770AB9B0F268C16832980\" name=\"us-gaap:OtherComprehensiveIncomeLossNetOfTaxPortionAttributableToParent\" scale=\"6\" unitref=\"iso4217_CAD\">51</ix:nonfraction></span></span></div></td><td style=\"vertical-align:bottom;border-bottom:1px solid #000000;background-color:#cceeff;border-top:1px solid #000000;\"><div style=\"text-align:left;font-size:10pt;\"><span style=\"font-family:inherit;font-size:10pt;\"><br/></span></div></td></tr><tr><td style=\"vertical-align:middle;border-bottom:2px solid #000000;padding-left:2px;padding-top:2px;padding-bottom:2px;padding-right:2px;\"><div style=\"text-align:left;font-size:9pt;\"><span style=\"font-family:Arial;font-size:9pt;font-weight:bold;\">Comprehensive income</span></div></td><td style=\"vertical-align:bottom;border-bottom:2px solid #000000;padding-left:2px;padding-top:2px;padding-bottom:2px;\"><div style=\"text-align:left;font-size:9pt;\"><span style=\"font-family:Arial;font-size:9pt;font-weight:bold;\">$</span></div></td><td style=\"vertical-align:bottom;border-bottom:2px solid #000000;padding-top:2px;padding-bottom:2px;\"><div style=\"text-align:right;font-size:9pt;\"><span style=\"font-family:Arial;font-size:9pt;font-weight:bold;\"><span><ix:nonfraction contextref=\"FD2020Q3QTD\" decimals=\"-6\" format=\"ixt:numdotdecimal\" id=\"d742040e1326-wk-Fact-6DA351E677DC0D5FD391268C168B94DB\" name=\"us-gaap:ComprehensiveIncomeNetOfTax\" scale=\"6\" unitref=\"iso4217_CAD\">632</ix:nonfraction></span></span></div></td><td style=\"vertical-align:bottom;border-bottom:2px solid #000000;\"><div style=\"text-align:left;font-size:10pt;\"><span style=\"font-family:inherit;font-size:10pt;\"><br/></span></div></td><td style=\"vertical-align:bottom;border-bottom:2px solid #000000;padding-left:2px;padding-top:2px;padding-bottom:2px;border-top:1px solid #000000;\"><div style=\"text-align:left;font-size:9pt;\"><span style=\"font-family:Arial;font-size:9pt;\">$</span></div></td><td style=\"vertical-align:bottom;border-bottom:2px solid #000000;padding-top:2px;padding-bottom:2px;border-top:1px solid #000000;\"><div style=\"text-align:right;font-size:9pt;\"><span style=\"font-family:Arial;font-size:9pt;\"><span><ix:nonfraction contextref=\"FD2019Q3QTD\" decimals=\"-6\" format=\"ixt:numdotdecimal\" id=\"d742040e1340-wk-Fact-0A433E51D426926BCEE0268C1635D4C8\" name=\"us-gaap:ComprehensiveIncomeNetOfTax\" scale=\"6\" unitref=\"iso4217_CAD\">635</ix:nonfraction></span></span></div></td><td style=\"vertical-align:bottom;border-bottom:2px solid #000000;border-top:1px solid #000000;\"><div style=\"text-align:left;font-size:10pt;\"><span style=\"font-family:inherit;font-size:10pt;\"><br/></span></div></td><td style=\"vertical-align:bottom;border-bottom:2px solid #000000;padding-left:2px;padding-top:2px;padding-bottom:2px;\"><div style=\"text-align:left;font-size:9pt;\"><span style=\"font-family:Arial;font-size:9pt;font-weight:bold;\">$</span></div></td><td style=\"vertical-align:bottom;border-bottom:2px solid #000000;padding-top:2px;padding-bottom:2px;\"><div style=\"text-align:right;font-size:9pt;\"><span style=\"font-family:Arial;font-size:9pt;font-weight:bold;\"><span><ix:nonfraction contextref=\"FD2020Q3YTD\" decimals=\"-6\" format=\"ixt:numdotdecimal\" id=\"d742040e1354-wk-Fact-D8DE420A377FDC9771FD268C1690DDF9\" name=\"us-gaap:ComprehensiveIncomeNetOfTax\" scale=\"6\" unitref=\"iso4217_CAD\">1,748</ix:nonfraction></span></span></div></td><td style=\"vertical-align:bottom;border-bottom:2px solid #000000;\"><div style=\"text-align:left;font-size:10pt;\"><span style=\"font-family:inherit;font-size:10pt;\"><br/></span></div></td><td style=\"vertical-align:bottom;border-bottom:2px solid #000000;padding-left:2px;padding-top:2px;padding-bottom:2px;border-top:1px solid #000000;\"><div style=\"text-align:left;font-size:9pt;\"><span style=\"font-family:Arial;font-size:9pt;\">$</span></div></td><td style=\"vertical-align:bottom;border-bottom:2px solid #000000;padding-top:2px;padding-bottom:2px;border-top:1px solid #000000;\"><div style=\"text-align:right;font-size:9pt;\"><span style=\"font-family:Arial;font-size:9pt;\"><span><ix:nonfraction contextref=\"FD2019Q3YTD\" decimals=\"-6\" format=\"ixt:numdotdecimal\" id=\"d742040e1369-wk-Fact-3000F1CD0547D05A4C25268C162CA6F5\" name=\"us-gaap:ComprehensiveIncomeNetOfTax\" scale=\"6\" unitref=\"iso4217_CAD\">1,827</ix:nonfraction></span></span></div></td><td style=\"vertical-align:bottom;border-bottom:2px solid #000000;border-top:1px solid #000000;\"><div style=\"text-align:left;font-size:10pt;\"><span style=\"font-family:inherit;font-size:10pt;\"><br/></span></div></td></tr></tbody></table></body></html>"
      ],
      "text/plain": [
       "<IPython.core.display.HTML object>"
      ]
     },
     "metadata": {},
     "output_type": "display_data"
    }
   ],
   "source": [
    "def unmerge_cells(html: str) -> str:\n",
    "    soup = BeautifulSoup(html, \"lxml\")\n",
    "    for td in soup.find_all(\"td\"):\n",
    "        if td.has_attr(\"colspan\"):\n",
    "            for _ in range(int(td[\"colspan\"]) - 1):\n",
    "                new_td = soup.new_tag(\"td\")\n",
    "                new_td.string = \"NaN\"\n",
    "                td.insert_before(new_td)\n",
    "            td[\"colspan\"] = 1\n",
    "    return str(soup)\n",
    "\n",
    "\n",
    "unmerged = unmerge_cells(TABLE_10Q_CP_0000016875_20_000032__001)\n",
    "display(HTML(unmerged))"
   ]
  },
  {
   "cell_type": "code",
   "execution_count": 7,
   "metadata": {},
   "outputs": [
    {
     "data": {
      "text/html": [
       "<div>\n",
       "<style scoped>\n",
       "    .dataframe tbody tr th:only-of-type {\n",
       "        vertical-align: middle;\n",
       "    }\n",
       "\n",
       "    .dataframe tbody tr th {\n",
       "        vertical-align: top;\n",
       "    }\n",
       "\n",
       "    .dataframe thead th {\n",
       "        text-align: right;\n",
       "    }\n",
       "</style>\n",
       "<table border=\"1\" class=\"dataframe\">\n",
       "  <thead>\n",
       "    <tr style=\"text-align: right;\">\n",
       "      <th></th>\n",
       "      <th>0</th>\n",
       "      <th>1</th>\n",
       "      <th>2</th>\n",
       "      <th>3</th>\n",
       "      <th>4</th>\n",
       "      <th>5</th>\n",
       "      <th>6</th>\n",
       "      <th>7</th>\n",
       "      <th>8</th>\n",
       "      <th>9</th>\n",
       "      <th>10</th>\n",
       "      <th>11</th>\n",
       "      <th>12</th>\n",
       "    </tr>\n",
       "  </thead>\n",
       "  <tbody>\n",
       "    <tr>\n",
       "      <th>0</th>\n",
       "      <td>NaN</td>\n",
       "      <td>NaN</td>\n",
       "      <td>NaN</td>\n",
       "      <td>NaN</td>\n",
       "      <td>NaN</td>\n",
       "      <td>NaN</td>\n",
       "      <td>NaN</td>\n",
       "      <td>NaN</td>\n",
       "      <td>NaN</td>\n",
       "      <td>NaN</td>\n",
       "      <td>NaN</td>\n",
       "      <td>NaN</td>\n",
       "      <td>NaN</td>\n",
       "    </tr>\n",
       "    <tr>\n",
       "      <th>1</th>\n",
       "      <td>NaN</td>\n",
       "      <td>NaN</td>\n",
       "      <td>NaN</td>\n",
       "      <td>NaN</td>\n",
       "      <td>NaN</td>\n",
       "      <td>NaN</td>\n",
       "      <td>NaN</td>\n",
       "      <td>NaN</td>\n",
       "      <td>NaN</td>\n",
       "      <td>NaN</td>\n",
       "      <td>NaN</td>\n",
       "      <td>NaN</td>\n",
       "      <td>NaN</td>\n",
       "    </tr>\n",
       "    <tr>\n",
       "      <th>2</th>\n",
       "      <td>NaN</td>\n",
       "      <td>NaN</td>\n",
       "      <td>NaN</td>\n",
       "      <td>NaN</td>\n",
       "      <td>NaN</td>\n",
       "      <td>NaN</td>\n",
       "      <td>For the three months ended September 30</td>\n",
       "      <td>NaN</td>\n",
       "      <td>NaN</td>\n",
       "      <td>NaN</td>\n",
       "      <td>NaN</td>\n",
       "      <td>NaN</td>\n",
       "      <td>For the nine months ended September 30</td>\n",
       "    </tr>\n",
       "    <tr>\n",
       "      <th>3</th>\n",
       "      <td>(in millions of Canadian dollars)</td>\n",
       "      <td>NaN</td>\n",
       "      <td>NaN</td>\n",
       "      <td>2020</td>\n",
       "      <td>NaN</td>\n",
       "      <td>NaN</td>\n",
       "      <td>2019</td>\n",
       "      <td>NaN</td>\n",
       "      <td>NaN</td>\n",
       "      <td>2020</td>\n",
       "      <td>NaN</td>\n",
       "      <td>NaN</td>\n",
       "      <td>2019</td>\n",
       "    </tr>\n",
       "    <tr>\n",
       "      <th>4</th>\n",
       "      <td>Net income</td>\n",
       "      <td>$</td>\n",
       "      <td>598</td>\n",
       "      <td>NaN</td>\n",
       "      <td>$</td>\n",
       "      <td>618</td>\n",
       "      <td>NaN</td>\n",
       "      <td>$</td>\n",
       "      <td>1642</td>\n",
       "      <td>NaN</td>\n",
       "      <td>$</td>\n",
       "      <td>1776</td>\n",
       "      <td>NaN</td>\n",
       "    </tr>\n",
       "    <tr>\n",
       "      <th>5</th>\n",
       "      <td>Net gain (loss) in foreign currency translatio...</td>\n",
       "      <td>NaN</td>\n",
       "      <td>16</td>\n",
       "      <td>NaN</td>\n",
       "      <td>NaN</td>\n",
       "      <td>(8</td>\n",
       "      <td>)</td>\n",
       "      <td>NaN</td>\n",
       "      <td>(18</td>\n",
       "      <td>)</td>\n",
       "      <td>NaN</td>\n",
       "      <td>23</td>\n",
       "      <td>NaN</td>\n",
       "    </tr>\n",
       "    <tr>\n",
       "      <th>6</th>\n",
       "      <td>Change in derivatives designated as cash flow ...</td>\n",
       "      <td>NaN</td>\n",
       "      <td>3</td>\n",
       "      <td>NaN</td>\n",
       "      <td>NaN</td>\n",
       "      <td>2</td>\n",
       "      <td>NaN</td>\n",
       "      <td>NaN</td>\n",
       "      <td>6</td>\n",
       "      <td>NaN</td>\n",
       "      <td>NaN</td>\n",
       "      <td>8</td>\n",
       "      <td>NaN</td>\n",
       "    </tr>\n",
       "    <tr>\n",
       "      <th>7</th>\n",
       "      <td>Change in pension and post-retirement defined ...</td>\n",
       "      <td>NaN</td>\n",
       "      <td>44</td>\n",
       "      <td>NaN</td>\n",
       "      <td>NaN</td>\n",
       "      <td>20</td>\n",
       "      <td>NaN</td>\n",
       "      <td>NaN</td>\n",
       "      <td>134</td>\n",
       "      <td>NaN</td>\n",
       "      <td>NaN</td>\n",
       "      <td>61</td>\n",
       "      <td>NaN</td>\n",
       "    </tr>\n",
       "    <tr>\n",
       "      <th>8</th>\n",
       "      <td>Other comprehensive income before income taxes</td>\n",
       "      <td>NaN</td>\n",
       "      <td>63</td>\n",
       "      <td>NaN</td>\n",
       "      <td>NaN</td>\n",
       "      <td>14</td>\n",
       "      <td>NaN</td>\n",
       "      <td>NaN</td>\n",
       "      <td>122</td>\n",
       "      <td>NaN</td>\n",
       "      <td>NaN</td>\n",
       "      <td>92</td>\n",
       "      <td>NaN</td>\n",
       "    </tr>\n",
       "    <tr>\n",
       "      <th>9</th>\n",
       "      <td>Income tax (expense) recovery on above items</td>\n",
       "      <td>NaN</td>\n",
       "      <td>(29</td>\n",
       "      <td>)</td>\n",
       "      <td>NaN</td>\n",
       "      <td>3</td>\n",
       "      <td>NaN</td>\n",
       "      <td>NaN</td>\n",
       "      <td>(16</td>\n",
       "      <td>)</td>\n",
       "      <td>NaN</td>\n",
       "      <td>(41</td>\n",
       "      <td>)</td>\n",
       "    </tr>\n",
       "    <tr>\n",
       "      <th>10</th>\n",
       "      <td>Other comprehensive income (Note 7)</td>\n",
       "      <td>NaN</td>\n",
       "      <td>34</td>\n",
       "      <td>NaN</td>\n",
       "      <td>NaN</td>\n",
       "      <td>17</td>\n",
       "      <td>NaN</td>\n",
       "      <td>NaN</td>\n",
       "      <td>106</td>\n",
       "      <td>NaN</td>\n",
       "      <td>NaN</td>\n",
       "      <td>51</td>\n",
       "      <td>NaN</td>\n",
       "    </tr>\n",
       "    <tr>\n",
       "      <th>11</th>\n",
       "      <td>Comprehensive income</td>\n",
       "      <td>$</td>\n",
       "      <td>632</td>\n",
       "      <td>NaN</td>\n",
       "      <td>$</td>\n",
       "      <td>635</td>\n",
       "      <td>NaN</td>\n",
       "      <td>$</td>\n",
       "      <td>1748</td>\n",
       "      <td>NaN</td>\n",
       "      <td>$</td>\n",
       "      <td>1827</td>\n",
       "      <td>NaN</td>\n",
       "    </tr>\n",
       "  </tbody>\n",
       "</table>\n",
       "</div>"
      ],
      "text/plain": [
       "                                                   0    1    2     3    4   \\\n",
       "0                                                 NaN  NaN  NaN   NaN  NaN   \n",
       "1                                                 NaN  NaN  NaN   NaN  NaN   \n",
       "2                                                 NaN  NaN  NaN   NaN  NaN   \n",
       "3                   (in millions of Canadian dollars)  NaN  NaN  2020  NaN   \n",
       "4                                          Net income    $  598   NaN    $   \n",
       "5   Net gain (loss) in foreign currency translatio...  NaN   16   NaN  NaN   \n",
       "6   Change in derivatives designated as cash flow ...  NaN    3   NaN  NaN   \n",
       "7   Change in pension and post-retirement defined ...  NaN   44   NaN  NaN   \n",
       "8      Other comprehensive income before income taxes  NaN   63   NaN  NaN   \n",
       "9        Income tax (expense) recovery on above items  NaN  (29     )  NaN   \n",
       "10                Other comprehensive income (Note 7)  NaN   34   NaN  NaN   \n",
       "11                               Comprehensive income    $  632   NaN    $   \n",
       "\n",
       "     5                                        6    7     8     9    10    11  \\\n",
       "0   NaN                                      NaN  NaN   NaN   NaN  NaN   NaN   \n",
       "1   NaN                                      NaN  NaN   NaN   NaN  NaN   NaN   \n",
       "2   NaN  For the three months ended September 30  NaN   NaN   NaN  NaN   NaN   \n",
       "3   NaN                                     2019  NaN   NaN  2020  NaN   NaN   \n",
       "4   618                                      NaN    $  1642   NaN    $  1776   \n",
       "5    (8                                        )  NaN   (18     )  NaN    23   \n",
       "6     2                                      NaN  NaN     6   NaN  NaN     8   \n",
       "7    20                                      NaN  NaN   134   NaN  NaN    61   \n",
       "8    14                                      NaN  NaN   122   NaN  NaN    92   \n",
       "9     3                                      NaN  NaN   (16     )  NaN   (41   \n",
       "10   17                                      NaN  NaN   106   NaN  NaN    51   \n",
       "11  635                                      NaN    $  1748   NaN    $  1827   \n",
       "\n",
       "                                        12  \n",
       "0                                      NaN  \n",
       "1                                      NaN  \n",
       "2   For the nine months ended September 30  \n",
       "3                                     2019  \n",
       "4                                      NaN  \n",
       "5                                      NaN  \n",
       "6                                      NaN  \n",
       "7                                      NaN  \n",
       "8                                      NaN  \n",
       "9                                        )  \n",
       "10                                     NaN  \n",
       "11                                     NaN  "
      ]
     },
     "metadata": {},
     "output_type": "display_data"
    }
   ],
   "source": [
    "df = pd.read_html(StringIO(unmerged), flavor=\"lxml\")[0]\n",
    "display(df)"
   ]
  },
  {
   "cell_type": "code",
   "execution_count": 8,
   "metadata": {},
   "outputs": [
    {
     "name": "stdout",
     "output_type": "stream",
     "text": [
      "| | | | | | | For the three months ended September 30 | | | | | | For the nine months ended September 30 |\n",
      "| (in millions of Canadian dollars) | | | 2020 | | | 2019 | | | 2020 | | | 2019 |\n",
      "| Net income | $ | 598 | | $ | 618 | | $ | 1642 | | $ | 1776 | |\n",
      "| Net gain (loss) in foreign currency translation adjustments, net of hedging activities | | 16 | | | (8 | ) | | (18 | ) | | 23 | |\n",
      "| Change in derivatives designated as cash flow hedges | | 3 | | | 2 | | | 6 | | | 8 | |\n",
      "| Change in pension and post-retirement defined benefit plans | | 44 | | | 20 | | | 134 | | | 61 | |\n",
      "| Other comprehensive income before income taxes | | 63 | | | 14 | | | 122 | | | 92 | |\n",
      "| Income tax (expense) recovery on above items | | (29 | ) | | 3 | | | (16 | ) | | (41 | ) |\n",
      "| Other comprehensive income (Note 7) | | 34 | | | 17 | | | 106 | | | 51 | |\n",
      "| Comprehensive income | $ | 632 | | $ | 635 | | $ | 1748 | | $ | 1827 | |\n"
     ]
    }
   ],
   "source": [
    "def to_markdown_table(df):\n",
    "    df = df.dropna(how=\"all\")  # remove empty rows\n",
    "    df = df.fillna(\"\")\n",
    "    markdown_table = \"\\n\".join(df.to_markdown(index=False).split(\"\\n\")[2:])\n",
    "    markdown_table = re.sub(r\" +\", \" \", markdown_table)\n",
    "    return markdown_table\n",
    "\n",
    "\n",
    "markdown_table = to_markdown_table(df)\n",
    "print(markdown_table)"
   ]
  },
  {
   "cell_type": "code",
   "execution_count": 9,
   "metadata": {},
   "outputs": [
    {
     "data": {
      "text/html": [
       "<pre style=\"white-space:pre;overflow-x:auto;line-height:normal;font-family:Menlo,'DejaVu Sans Mono',consolas,'Courier New',monospace\">╭─────────────────────────────────────────────────────────────────────────────────────────────────────────────────╮\n",
       "│ The income tax expense for the nine months ended September 30, 2020 was $16                                     │\n",
       "│ million Canadian dollars.                                                                                       │\n",
       "╰─────────────────────────────────────────────────────────────────────────────────────────────────────────────────╯\n",
       "</pre>\n"
      ],
      "text/plain": [
       "╭─────────────────────────────────────────────────────────────────────────────────────────────────────────────────╮\n",
       "│ The income tax expense for the nine months ended September 30, 2020 was $16                                     │\n",
       "│ million Canadian dollars.                                                                                       │\n",
       "╰─────────────────────────────────────────────────────────────────────────────────────────────────────────────────╯\n"
      ]
     },
     "metadata": {},
     "output_type": "display_data"
    },
    {
     "data": {
      "text/html": [
       "<pre style=\"white-space:pre;overflow-x:auto;line-height:normal;font-family:Menlo,'DejaVu Sans Mono',consolas,'Courier New',monospace\">╭─────────────────────────────────────────────────────────────────────────────────────────────────────────────────╮\n",
       "│ {'prompt_tokens': 382, 'completion_tokens': 23, 'total_tokens': 405}                                            │\n",
       "╰─────────────────────────────────────────────────────────────────────────────────────────────────────────────────╯\n",
       "</pre>\n"
      ],
      "text/plain": [
       "╭─────────────────────────────────────────────────────────────────────────────────────────────────────────────────╮\n",
       "│ {'prompt_tokens': 382, 'completion_tokens': 23, 'total_tokens': 405}                                            │\n",
       "╰─────────────────────────────────────────────────────────────────────────────────────────────────────────────────╯\n"
      ]
     },
     "metadata": {},
     "output_type": "display_data"
    }
   ],
   "source": [
    "answer(\"whats the income tax 2020 9 months before sept 30\", markdown_table, \"gpt-4\")"
   ]
  },
  {
   "cell_type": "code",
   "execution_count": 10,
   "metadata": {},
   "outputs": [
    {
     "data": {
      "text/html": [
       "<pre style=\"white-space:pre;overflow-x:auto;line-height:normal;font-family:Menlo,'DejaVu Sans Mono',consolas,'Courier New',monospace\">╭─────────────────────────────────────────────────────────────────────────────────────────────────────────────────╮\n",
       "│ 1. Decrease in Net Income: For both the three-month and nine-month periods                                      │\n",
       "│ ending September 2020, there is a noticeable decrease in net income compared to                                 │\n",
       "│ 2019. This shows a potential profitability issue and may be a result of reduced                                 │\n",
       "│ operations or increased expenses. The reasons behind this need to be                                            │\n",
       "│ investigated further.  2. Increase in Change in Pension and Post-Retirement                                     │\n",
       "│ Defined Benefit Plans: There was a significant increase in the change in pension                                │\n",
       "│ and post-retirement defined benefit plans from 2019 to 2020 for both the three-                                 │\n",
       "│ month and nine-month periods. This could indicate that the company is investing                                 │\n",
       "│ more in their employees' retirement benefits, but it could also imply increased                                 │\n",
       "│ liabilities for the firm that could affect future profitability.  3. Positive                                   │\n",
       "│ Comprehensive Income: Despite a decrease in net income, the comprehensive income                                │\n",
       "│ for both the three-month and nine-month periods ending in September 2020 is                                     │\n",
       "│ positive, which takes into account not just profitability, but also other                                       │\n",
       "│ factors like foreign currency translation adjustments and changes in derivatives                                │\n",
       "│ and pension plans. This suggests that the company is still doing well overall                                   │\n",
       "│ despite the decrease in net income.                                                                             │\n",
       "╰─────────────────────────────────────────────────────────────────────────────────────────────────────────────────╯\n",
       "</pre>\n"
      ],
      "text/plain": [
       "╭─────────────────────────────────────────────────────────────────────────────────────────────────────────────────╮\n",
       "│ 1. Decrease in Net Income: For both the three-month and nine-month periods                                      │\n",
       "│ ending September 2020, there is a noticeable decrease in net income compared to                                 │\n",
       "│ 2019. This shows a potential profitability issue and may be a result of reduced                                 │\n",
       "│ operations or increased expenses. The reasons behind this need to be                                            │\n",
       "│ investigated further.  2. Increase in Change in Pension and Post-Retirement                                     │\n",
       "│ Defined Benefit Plans: There was a significant increase in the change in pension                                │\n",
       "│ and post-retirement defined benefit plans from 2019 to 2020 for both the three-                                 │\n",
       "│ month and nine-month periods. This could indicate that the company is investing                                 │\n",
       "│ more in their employees' retirement benefits, but it could also imply increased                                 │\n",
       "│ liabilities for the firm that could affect future profitability.  3. Positive                                   │\n",
       "│ Comprehensive Income: Despite a decrease in net income, the comprehensive income                                │\n",
       "│ for both the three-month and nine-month periods ending in September 2020 is                                     │\n",
       "│ positive, which takes into account not just profitability, but also other                                       │\n",
       "│ factors like foreign currency translation adjustments and changes in derivatives                                │\n",
       "│ and pension plans. This suggests that the company is still doing well overall                                   │\n",
       "│ despite the decrease in net income.                                                                             │\n",
       "╰─────────────────────────────────────────────────────────────────────────────────────────────────────────────────╯\n"
      ]
     },
     "metadata": {},
     "output_type": "display_data"
    },
    {
     "data": {
      "text/html": [
       "<pre style=\"white-space:pre;overflow-x:auto;line-height:normal;font-family:Menlo,'DejaVu Sans Mono',consolas,'Courier New',monospace\">╭─────────────────────────────────────────────────────────────────────────────────────────────────────────────────╮\n",
       "│ {'prompt_tokens': 386, 'completion_tokens': 224, 'total_tokens': 610}                                           │\n",
       "╰─────────────────────────────────────────────────────────────────────────────────────────────────────────────────╯\n",
       "</pre>\n"
      ],
      "text/plain": [
       "╭─────────────────────────────────────────────────────────────────────────────────────────────────────────────────╮\n",
       "│ {'prompt_tokens': 386, 'completion_tokens': 224, 'total_tokens': 610}                                           │\n",
       "╰─────────────────────────────────────────────────────────────────────────────────────────────────────────────────╯\n"
      ]
     },
     "metadata": {},
     "output_type": "display_data"
    }
   ],
   "source": [
    "ans = answer(\n",
    "    \"you are now financial analyst. Give concise 3 most important insights and very brief reasoning for each\",\n",
    "    markdown_table,\n",
    "    \"gpt-4\",\n",
    ")"
   ]
  }
 ],
 "metadata": {
  "kernelspec": {
   "display_name": ".venv",
   "language": "python",
   "name": "python3"
  },
  "language_info": {
   "codemirror_mode": {
    "name": "ipython",
    "version": 3
   },
   "file_extension": ".py",
   "mimetype": "text/x-python",
   "name": "python",
   "nbconvert_exporter": "python",
   "pygments_lexer": "ipython3",
   "version": "3.11.4"
  }
 },
 "nbformat": 4,
 "nbformat_minor": 2
}

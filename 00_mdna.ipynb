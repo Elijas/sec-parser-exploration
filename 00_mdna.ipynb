{
 "cells": [
  {
   "cell_type": "code",
   "execution_count": 23,
   "metadata": {},
   "outputs": [],
   "source": [
    "from __future__ import annotations\n",
    "import sec_parser as sp\n",
    "import sec_downloader as sd\n",
    "import jupyter_black\n",
    "import tiktoken\n",
    "\n",
    "jupyter_black.load()"
   ]
  },
  {
   "cell_type": "code",
   "execution_count": 2,
   "metadata": {},
   "outputs": [],
   "source": [
    "# Download HTML\n",
    "dl = sd.Downloader(\"alphanome.ai\", \"info@alphanome.ai\")\n",
    "html = dl.get_latest_html(\"10-Q\", \"AAPL\")"
   ]
  },
  {
   "cell_type": "code",
   "execution_count": 3,
   "metadata": {},
   "outputs": [],
   "source": [
    "# Parse HTML\n",
    "elements = sp.Edgar10QParser().parse(html)\n",
    "top_level_sections = [\n",
    "    item for part in sp.TreeBuilder().build(elements) for item in part.children\n",
    "]"
   ]
  },
  {
   "cell_type": "code",
   "execution_count": 4,
   "metadata": {},
   "outputs": [],
   "source": [
    "# Filter MD&A section\n",
    "mdna_top_level_sections = [\n",
    "    k for k in top_level_sections if \"management\" in k.semantic_element.text.lower()\n",
    "]\n",
    "assert len(mdna_top_level_sections) == 1\n",
    "mdna_top_level_section = mdna_top_level_sections[0]"
   ]
  },
  {
   "cell_type": "code",
   "execution_count": 5,
   "metadata": {},
   "outputs": [
    {
     "data": {
      "text/plain": [
       "{3: '##', 4: '###'}"
      ]
     },
     "execution_count": 5,
     "metadata": {},
     "output_type": "execute_result"
    }
   ],
   "source": [
    "# Convert to markdown (Step 1: Get levels)\n",
    "levels = sorted(\n",
    "    {\n",
    "        k.semantic_element.level\n",
    "        for k in mdna_top_level_section.get_descendants()\n",
    "        if isinstance(k.semantic_element, sp.TitleElement)\n",
    "    }\n",
    ")\n",
    "level_to_markdown = {level: \"#\" * (i + 2) for i, level in enumerate(levels)}\n",
    "level_to_markdown"
   ]
  },
  {
   "cell_type": "code",
   "execution_count": 6,
   "metadata": {},
   "outputs": [],
   "source": [
    "# Convert to markdown (Step 2: Extract text)\n",
    "markdown = \"\"\n",
    "markdown += f\"# {mdna_top_level_section.semantic_element.text}\\n\"\n",
    "for node in mdna_top_level_section.get_descendants():\n",
    "    element = node.semantic_element\n",
    "    if isinstance(element, sp.TextElement):\n",
    "        markdown += f\"{element.text}\\n\"\n",
    "    elif isinstance(element, sp.TitleElement):\n",
    "        markdown += f\"{level_to_markdown[element.level]} {element.text}\\n\"\n",
    "    elif isinstance(element, sp.TableElement):\n",
    "        markdown += f\"[{element.get_summary()}]\\n\""
   ]
  },
  {
   "cell_type": "code",
   "execution_count": 21,
   "metadata": {},
   "outputs": [
    {
     "name": "stdout",
     "output_type": "stream",
     "text": [
      "# Item 2.    Management’s Discussion and Analysis of Financial Condition and Res...\n",
      "## Available Information\n",
      "The Company periodically provides certain information for investors on its corpo...\n",
      "## Business Seasonality and Product Introductions\n",
      "The Company has historically experienced higher net sales in its first quarter c...\n",
      "## Fiscal Period\n",
      "The Company’s fiscal year is the 52- or 53-week period that ends on the last Sat...\n",
      "## Quarterly Highlights\n",
      "Weakness in foreign currencies relative to the U.S. dollar had an unfavorable im...\n",
      "### Macroeconomic Conditions\n",
      "Macroeconomic conditions, including inflation, changes in interest rates, and cu...\n",
      "## Segment Operating Performance\n",
      "The following table shows net sales by reportable segment for the three- and nin...\n",
      "...\n",
      "## Provision for Income Taxes\n",
      "Provision for income taxes, effective tax rate and statutory federal income tax ...\n",
      "[Table with 3 rows, 16 numbers, and 228 characters.]\n",
      "The Company’s effective tax rate for the third quarter and first nine months of ...\n",
      "## Liquidity and Capital Resources\n",
      "The Company believes its balances of cash, cash equivalents and unrestricted mar...\n",
      "### Manufacturing Purchase Obligations\n",
      "The Company utilizes several outsourcing partners to manufacture subassemblies f...\n",
      "### Capital Return Program\n",
      "In addition to its contractual cash requirements, the Company had authorized sha...\n",
      "## Critical Accounting Estimates\n",
      "The preparation of financial statements and related disclosures in conformity wi...\n",
      "\n"
     ]
    }
   ],
   "source": [
    "def get_lines(text, start=None, end=None, max_line_length=80):\n",
    "    lines = text.split(\"\\n\")[start:end]\n",
    "    return \"\\n\".join(\n",
    "        line if len(line) <= max_line_length else line[:max_line_length] + \"...\"\n",
    "        for line in lines\n",
    "    )\n",
    "\n",
    "\n",
    "print(get_lines(markdown, end=13))\n",
    "print(\"...\")\n",
    "print(get_lines(markdown, start=-13))"
   ]
  },
  {
   "cell_type": "code",
   "execution_count": 26,
   "metadata": {},
   "outputs": [
    {
     "data": {
      "text/plain": [
       "2834"
      ]
     },
     "execution_count": 26,
     "metadata": {},
     "output_type": "execute_result"
    }
   ],
   "source": [
    "GPT4_ENCODING = \"cl100k_base\"\n",
    "\n",
    "\n",
    "def num_tokens_from_string(string: str, encoding_name: str) -> int:\n",
    "    \"\"\"Returns the number of tokens in a text string.\"\"\"\n",
    "    encoding = tiktoken.get_encoding(encoding_name)\n",
    "    num_tokens = len(encoding.encode(string))\n",
    "    return num_tokens\n",
    "\n",
    "\n",
    "num_tokens_from_string(markdown, GPT4_ENCODING)"
   ]
  }
 ],
 "metadata": {
  "kernelspec": {
   "display_name": ".venv",
   "language": "python",
   "name": "python3"
  },
  "language_info": {
   "codemirror_mode": {
    "name": "ipython",
    "version": 3
   },
   "file_extension": ".py",
   "mimetype": "text/x-python",
   "name": "python",
   "nbconvert_exporter": "python",
   "pygments_lexer": "ipython3",
   "version": "3.11.4"
  }
 },
 "nbformat": 4,
 "nbformat_minor": 2
}

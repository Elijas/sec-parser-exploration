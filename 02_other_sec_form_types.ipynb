{
 "cells": [
  {
   "cell_type": "code",
   "execution_count": 1,
   "metadata": {},
   "outputs": [
    {
     "name": "stdout",
     "output_type": "stream",
     "text": [
      "sec_downloader version: 0.11.1\n",
      "sec_parser version: 0.56.0\n"
     ]
    }
   ],
   "source": [
    "from importlib.metadata import version\n",
    "\n",
    "print(f\"sec_downloader version: {version('sec_downloader')}\")\n",
    "print(f\"sec_parser version: {version('sec_parser')}\")"
   ]
  },
  {
   "cell_type": "markdown",
   "metadata": {},
   "source": [
    "# How do I parse other form types with `sec-parser`, such as 10-K, 8-K, S-1, etc.?"
   ]
  },
  {
   "cell_type": "markdown",
   "metadata": {},
   "source": [
    "As of April 2023, `sec-parser` supports parsing various SEC form types beyond just 10-Q, such as 10-K, 8-K, S-1, and more. Basically, it supports parsing any structured text forms.\n",
    "\n",
    "However, currently only parsing 10-Q top level section types is supported.\n",
    "\n",
    "This gives us two methods to parse other form types with `sec-parser`:\n",
    "\n",
    "1. Ignore the warnings from the parsing step that identifies the 10-Q top level section types\n",
    "2. Skip the parsing step that identifies the 10-Q top level section types\n"
   ]
  },
  {
   "cell_type": "markdown",
   "metadata": {},
   "source": [
    "## Method 1: Ignore warnings from the parsing step that identifies the 10Q top level section types"
   ]
  },
  {
   "cell_type": "code",
   "execution_count": 10,
   "metadata": {},
   "outputs": [
    {
     "name": "stdout",
     "output_type": "stream",
     "text": [
      "\u001b[1;34mTopSectionTitle\u001b[0m: PART I\n",
      "├── \u001b[1;34mTopSectionTitle\u001b[0m: Item 1.    Business\n",
      "│   ├── \u001b[1;34mTitleElement\u001b[0m: Company Background\n",
      "│   │   └── \u001b[1;34mTextElement\u001b[0m: The Company designs, manufactur...the last Saturday of September.\n",
      "│   ├── \u001b[1;34mTitleElement\u001b[0m: Products\n"
     ]
    }
   ],
   "source": [
    "import warnings\n",
    "from sec_downloader import Downloader\n",
    "import sec_parser as sp\n",
    "\n",
    "dl = Downloader(\"MyCompanyName\", \"email@example.com\")\n",
    "html = dl.get_filing_html(ticker=\"AAPL\", form=\"10-K\")\n",
    "parser = sp.Edgar10QParser()\n",
    "\n",
    "with warnings.catch_warnings():\n",
    "    warnings.filterwarnings(\"ignore\", message=\"Invalid section type for\")\n",
    "    elements: list = parser.parse(html)\n",
    "    \n",
    "tree: sp.SemanticTree = sp.TreeBuilder().build(elements)\n",
    "\n",
    "demo_output: str = sp.render(tree)\n",
    "print('\\n'.join(demo_output.split('\\n')[:5]))"
   ]
  },
  {
   "cell_type": "markdown",
   "metadata": {},
   "source": [
    "## Method 2: Skip the parsing steps related to the 10Q top level section types"
   ]
  },
  {
   "cell_type": "code",
   "execution_count": 6,
   "metadata": {},
   "outputs": [
    {
     "name": "stdout",
     "output_type": "stream",
     "text": [
      "│   │   └── \u001b[1;34mTitleElement\u001b[0m: Health and Safety\n",
      "│   │       └── \u001b[1;34mTextElement\u001b[0m: The Company is committed to pro...rough its global security team.\n",
      "│   ├── \u001b[1;34mTitleElement\u001b[0m: Available Information\n",
      "│   │   └── \u001b[1;34mTextElement\u001b[0m: The Company’s Annual Reports on...active textual references only.\n",
      "│   ├── \u001b[1;34mTitleElement\u001b[0m: Item 1A.    Risk Factors\n",
      "│   │   ├── \u001b[1;34mTextElement\u001b[0m: The Company’s business, reputat...ins forward-looking statements.\n",
      "│   │   └── \u001b[1;34mSupplementaryText\u001b[0m: This section should be read in ...entary Data” of this Form 10-K.\n",
      "│   ├── \u001b[1;34mTitleElement\u001b[0m: Macroeconomic and Industry Risks\n",
      "│   │   ├── \u001b[1;34mSupplementaryText\u001b[0m: The Company’s operations and pe...ations and financial condition.\n",
      "│   │   ├── \u001b[1;34mTextElement\u001b[0m: The Company has international o...cial condition and stock price.\n",
      "│   │   ├── \u001b[1;34mSupplementaryText\u001b[0m: The Company’s business can be i...d other business interruptions.\n",
      "│   │   ├── \u001b[1;34mTextElement\u001b[0m: Political events, trade and oth...over all losses that may arise.\n",
      "│   │   ├── \u001b[1;34mSupplementaryText\u001b[0m: Global markets for the Company’...e effectively in these markets.\n",
      "│   │   └── \u001b[1;34mTextElement\u001b[0m: The Company’s products and serv...vices that compete effectively.\n",
      "│   ├── \u001b[1;34mTitleElement\u001b[0m: Business Risks\n"
     ]
    }
   ],
   "source": [
    "from sec_downloader import Downloader\n",
    "import sec_parser as sp\n",
    "from sec_parser.processing_steps import TopSectionManagerFor10Q, IndividualSemanticElementExtractor, TopSectionTitleCheck\n",
    "\n",
    "dl = Downloader(\"MyCompanyName\", \"email@example.com\")\n",
    "html = dl.get_filing_html(ticker=\"AAPL\", form=\"10-K\")\n",
    "\n",
    "def without_10q_related_steps():\n",
    "    all_steps = sp.Edgar10QParser().get_default_steps()\n",
    "    \n",
    "    # Change 1: Remove the TopSectionManagerFor10Q\n",
    "    steps_without_top_section_manager = [step for step in all_steps if not isinstance(step, TopSectionManagerFor10Q)]\n",
    "    \n",
    "    # Change 2: Replace the IndividualSemanticElementExtractor with a new one that has the top section checks removed\n",
    "    def get_checks_without_top_section_title_check():\n",
    "        all_checks = sp.Edgar10QParser().get_default_single_element_checks()\n",
    "        return [check for check in all_checks if not isinstance(check, TopSectionTitleCheck)]\n",
    "    return [\n",
    "        IndividualSemanticElementExtractor(get_checks=get_checks_without_top_section_title_check) \n",
    "        if isinstance(step, IndividualSemanticElementExtractor) \n",
    "        else step\n",
    "        for step in steps_without_top_section_manager\n",
    "    ]\n",
    "\n",
    "parser = sp.Edgar10QParser(get_steps=without_10q_related_steps)\n",
    "elements: list = parser.parse(html)\n",
    "tree: sp.SemanticTree = sp.TreeBuilder().build(elements)\n",
    "\n",
    "demo_output: str = sp.render(tree)\n",
    "print('\\n'.join(demo_output.split('\\n')[90:105]))"
   ]
  },
  {
   "cell_type": "markdown",
   "metadata": {},
   "source": [
    "# Your Feedback Matters to Us\n",
    "We hope you found this notebook helpful! Your feedback is always welcome - feel free to open an issue or PR on our GitHub repo:\n",
    "https://github.com/alphanome-ai/sec-parser\n"
   ]
  }
 ],
 "metadata": {
  "kernelspec": {
   "display_name": ".venv",
   "language": "python",
   "name": "python3"
  },
  "language_info": {
   "codemirror_mode": {
    "name": "ipython",
    "version": 3
   },
   "file_extension": ".py",
   "mimetype": "text/x-python",
   "name": "python",
   "nbconvert_exporter": "python",
   "pygments_lexer": "ipython3",
   "version": "3.11.4"
  }
 },
 "nbformat": 4,
 "nbformat_minor": 2
}
